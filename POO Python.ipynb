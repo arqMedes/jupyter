{
 "cells": [
  {
   "cell_type": "markdown",
   "metadata": {},
   "source": [
    "# Implementação de Classes em Python"
   ]
  },
  {
   "cell_type": "markdown",
   "metadata": {},
   "source": [
    "Na programação orientada a objetos, o programa é dividido em unidades (objetos) contendo dados (estado) e funcionalidade\n",
    "(métodos) própria.\n",
    "Objetos são capazes de receber mensagens, processar dados (de acordo com seus métodos) e enviar mensagens a outros objetos. Cada objeto pode ser visto como uma máquina\n",
    "independente ou um ator que desempenha um papel especí\u001c",
    "co."
   ]
  },
  {
   "cell_type": "markdown",
   "metadata": {},
   "source": [
    "Ao se construir um modelo de um sistema natural, uma das características desejáveis deste modelo, é um certo grau de generalidade.\n",
    "Por exemplo, ao construir um modelo computacional de um automóvel, desejamos que ele (o modelo) represente uma categoria de automóveis e não apenas nosso automóvel particular. Ao mesmo\n",
    "tempo, queremos ser capazes de ajustar este modelo para que ele\n",
    "possa representar nosso automóvel ou o de nosso vizinho sem pre-\n",
    "cisar reescrever o modelo inteiramente do zero. A estes modelos\n",
    "de objetos dá-se o nome de classes.\n",
    "A de\u001c",
    "nição de classes em Python pode ser feita de forma mais ou menos genérica. À partir das classes, podemos construir instâncias ajustadas para representar exemplares especí\u001c",
    "cos de objetos\n",
    "representados pela classe.\n",
    "Abaixo, temos uma de\u001c",
    "nição mínima de uma classe de objetos.\n",
    "Criamos uma classe chamada myClass, inteiramente em branco. Como uma classe completamente\n",
    "vazia não é possível em Python, adicionamos o comando pass que não tem qualquer efeito.\n"
   ]
  },
  {
   "cell_type": "code",
   "execution_count": 1,
   "metadata": {
    "collapsed": true
   },
   "outputs": [],
   "source": [
    "class myClass:\n",
    "    pass"
   ]
  },
  {
   "cell_type": "markdown",
   "metadata": {},
   "source": [
    "Para criar uma classe mais útil de objetos, precisamos de\u001c",
    "finir alguns de seus\n",
    "atributos .\n",
    "Exemplo uma classe que represente pessoas."
   ]
  },
  {
   "cell_type": "code",
   "execution_count": 1,
   "metadata": {
    "collapsed": true
   },
   "outputs": [],
   "source": [
    "class pessoa:\n",
    "    idade = 30\n",
    "    altura = 180\n",
    "    peso = 75\n",
    "    sexo = 'M'"
   ]
  },
  {
   "cell_type": "code",
   "execution_count": 3,
   "metadata": {
    "collapsed": false
   },
   "outputs": [],
   "source": [
    "mario = pessoa()"
   ]
  },
  {
   "cell_type": "code",
   "execution_count": 4,
   "metadata": {
    "collapsed": false
   },
   "outputs": [
    {
     "data": {
      "text/plain": [
       "'M'"
      ]
     },
     "execution_count": 4,
     "metadata": {},
     "output_type": "execute_result"
    }
   ],
   "source": [
    "mario.sexo"
   ]
  },
  {
   "cell_type": "markdown",
   "metadata": {},
   "source": [
    "Atributos específicos para cada objeto. Eles podem ser definidos na $\\textbf{criação}$ de cada objeto."
   ]
  },
  {
   "cell_type": "code",
   "execution_count": 9,
   "metadata": {
    "collapsed": true
   },
   "outputs": [],
   "source": [
    "class pessoa:\n",
    "    def __init__(self,idade, altura, peso, sexo):\n",
    "        self.idade = idade\n",
    "        self.altura = altura\n",
    "        self.peso = peso\n",
    "        self.sexo = sexo"
   ]
  },
  {
   "cell_type": "markdown",
   "metadata": {},
   "source": [
    "A função __init__ que de\u001c",
    "finimos na nova versão da classe pessoa, é uma função padrão de classes, que é executada\n",
    "automaticamente, sempre que uma nova instância é criada."
   ]
  },
  {
   "cell_type": "code",
   "execution_count": 10,
   "metadata": {
    "collapsed": false
   },
   "outputs": [],
   "source": [
    "mario = pessoa(45, 174, 93, 'M')"
   ]
  },
  {
   "cell_type": "code",
   "execution_count": 11,
   "metadata": {
    "collapsed": false
   },
   "outputs": [
    {
     "data": {
      "text/plain": [
       "174"
      ]
     },
     "execution_count": 11,
     "metadata": {},
     "output_type": "execute_result"
    }
   ],
   "source": [
    "mario.altura"
   ]
  },
  {
   "cell_type": "markdown",
   "metadata": {},
   "source": [
    "Adicionando funcionalidades a Objetos. Métodos de Classes."
   ]
  },
  {
   "cell_type": "code",
   "execution_count": 12,
   "metadata": {
    "collapsed": true
   },
   "outputs": [],
   "source": [
    "class pessoa:\n",
    "    def __init__(self,idade, altura, peso, sexo):\n",
    "        self.idade = idade\n",
    "        self.altura = altura\n",
    "        self.peso = peso\n",
    "        self.sexo = sexo\n",
    "    def IMC():\n",
    "        pass\n",
    "    def isFat():\n",
    "        pass"
   ]
  },
  {
   "cell_type": "code",
   "execution_count": null,
   "metadata": {
    "collapsed": true
   },
   "outputs": [],
   "source": []
  }
 ],
 "metadata": {
  "anaconda-cloud": {},
  "kernelspec": {
   "display_name": "Python [Root]",
   "language": "python",
   "name": "Python [Root]"
  },
  "language_info": {
   "codemirror_mode": {
    "name": "ipython",
    "version": 3
   },
   "file_extension": ".py",
   "mimetype": "text/x-python",
   "name": "python",
   "nbconvert_exporter": "python",
   "pygments_lexer": "ipython3",
   "version": "3.5.2"
  }
 },
 "nbformat": 4,
 "nbformat_minor": 0
}
