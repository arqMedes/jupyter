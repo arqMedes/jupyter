{
  "nbformat": 4,
  "nbformat_minor": 0,
  "metadata": {
    "colab": {
      "name": "analiseNodal.ipynb",
      "version": "0.3.2",
      "provenance": [],
      "collapsed_sections": [],
      "include_colab_link": true
    },
    "kernelspec": {
      "name": "python3",
      "display_name": "Python 3"
    }
  },
  "cells": [
    {
      "cell_type": "markdown",
      "metadata": {
        "id": "view-in-github",
        "colab_type": "text"
      },
      "source": [
        "<a href=\"https://colab.research.google.com/github/arqMedes/jupyter/blob/master/analiseNodal.ipynb\" target=\"_parent\"><img src=\"https://colab.research.google.com/assets/colab-badge.svg\" alt=\"Open In Colab\"/></a>"
      ]
    },
    {
      "metadata": {
        "id": "JTy2tHeR_ocm",
        "colab_type": "code",
        "outputId": "c74de732-72c4-4692-e95d-c5e806f4c6de",
        "colab": {
          "base_uri": "https://localhost:8080/",
          "height": 323
        }
      },
      "cell_type": "code",
      "source": [
        "import numpy as np\n",
        "\n",
        "#Número de ramos \n",
        "r = 9\n",
        "#Número de nós \n",
        "n = 4 - 1  # Um nó é o de referência\n",
        "\n",
        "print('Analise Nodal\\n [Y][V] = [Ino]')\n",
        "\n",
        "# ---------------MATRIZ ADMITÂNCIAS DE BARRA-----------------------------\n",
        "Y = np.zeros((n,n)) # Array\n",
        "#Auto-Admitâncias\n",
        "Y[0, 0] = 1./5 + 1./2 + 1./5\n",
        "Y[1, 1] = 1./10 + 1./4 + 1./5\n",
        "Y[2, 2] = 1./5 + 1./2 + 1./10 + 1./2\n",
        "\n",
        "#Admitâncias de transferências\n",
        "Y[0, 1] = Y[1, 0] = -1./5 # nó 1 e nó 2\n",
        "Y[0, 2] = Y[2, 0] = -1./2 - 1./5# nó 1 e nó 3\n",
        "Y[2, 1] = Y[1,2] = -1./10\n",
        "\n",
        "Y = np.matrix(Y) # matriz\n",
        "print('Y = \\n', Y)\n",
        "\n",
        "# ---------------MATRIZ FONTE DE CORRENTES DE BARRA (RESULTANTE)----------------\n",
        "Ino = np.zeros((n,1)) # VETOR (MATRIZ COLUNA)\n",
        "Ino[0, 0] = 1 + 2\n",
        "Ino[1, 0] = 3 - 2\n",
        "Ino[2, 0] = -1\n",
        "\n",
        "Ino = np.matrix(Ino)\n",
        "print('Ino = \\n', Ino)\n",
        "\n",
        "#Inversa de Y é a Zbarra\n",
        "Zbarra = Y.I\n",
        "\n",
        "print('Zbarra = \\n', Zbarra)\n",
        "\n",
        "# Tensões Nodal\n",
        "V = Zbarra*Ino\n",
        "print('V = \\n', V)"
      ],
      "execution_count": 0,
      "outputs": [
        {
          "output_type": "stream",
          "text": [
            "Analise Nodal\n",
            " [Y][V] = [Ino]\n",
            "Y = \n",
            " [[ 0.9  -0.2  -0.7 ]\n",
            " [-0.2   0.55 -0.1 ]\n",
            " [-0.7  -0.1   1.3 ]]\n",
            "Ino = \n",
            " [[ 3.]\n",
            " [ 1.]\n",
            " [-1.]]\n",
            "Zbarra = \n",
            " [[2.47368421 1.15789474 1.42105263]\n",
            " [1.15789474 2.38596491 0.80701754]\n",
            " [1.42105263 0.80701754 1.59649123]]\n",
            "V = \n",
            " [[7.15789474]\n",
            " [5.05263158]\n",
            " [3.47368421]]\n"
          ],
          "name": "stdout"
        }
      ]
    },
    {
      "metadata": {
        "id": "kMuI3HDPB5iP",
        "colab_type": "text"
      },
      "cell_type": "markdown",
      "source": [
        "#1ª Lei de Kirchoff\n",
        "\n",
        "AI = 0\n",
        "\n",
        "\n",
        "\n",
        "$$\n",
        "    \\begin{cases}\n",
        "    nó \\hspace{2mm}  A: -i_1 + I_1 + I_2 -i_2 -i_3 \\\\\n",
        "    nó \\hspace{2mm} B: +i_1 -i_3 + i_5  = 0  \\\\\n",
        "    nó \\hspace{2mm} D: -i_2 + i_3 + i_4  = 0\n",
        "    \\end{cases}\n",
        "$$\n",
        "---\n",
        "\n",
        "\n",
        "\n",
        "\n",
        "\n",
        "![alt text](https://github.com/arqMedes/imgCirc/blob/master/anNodal.png?raw=true)"
      ]
    },
    {
      "metadata": {
        "id": "kzTIdkIiBrtA",
        "colab_type": "code",
        "outputId": "63952a0e-7075-4b06-ceba-97263c2e8d83",
        "colab": {
          "base_uri": "https://localhost:8080/",
          "height": 68
        }
      },
      "cell_type": "code",
      "source": [
        "A = np.zeros((n , r))\n",
        "# ramo r1\n",
        "A[0, 0] = 1\n",
        "A[2, 0] = -1\n",
        "\n",
        "# ramo r2\n",
        "A[0, 1] = -1\n",
        "A[2, 1] = 1\n",
        "\n",
        "# ramo r3\n",
        "A[0, 2] = 1\n",
        "A[2, 2] = -1\n",
        "\n",
        "# ramo r4\n",
        "A[0, 3] = 1\n",
        "A[1, 3] = -1\n",
        "\n",
        "# ramo r5\n",
        "A[0, 4] = -1\n",
        "A[1, 4] = 1\n",
        "\n",
        "# ramo r6\n",
        "A[1, 5] = 1\n",
        "A[2, 5] = -1\n",
        "\n",
        "# ramo r7\n",
        "A[2, 6] = 1\n",
        "\n",
        "# ramo r8\n",
        "A[1, 7] = 1\n",
        "\n",
        "# ramo r9\n",
        "A[1, 8] = -1\n",
        "\n",
        "A"
      ],
      "execution_count": 0,
      "outputs": [
        {
          "output_type": "execute_result",
          "data": {
            "text/plain": [
              "array([[ 1., -1.,  1.,  1., -1.,  0.,  0.,  0.,  0.],\n",
              "       [ 0.,  0.,  0., -1.,  1.,  1.,  0.,  1., -1.],\n",
              "       [-1.,  1., -1.,  0.,  0., -1.,  1.,  0.,  0.]])"
            ]
          },
          "metadata": {
            "tags": []
          },
          "execution_count": 13
        }
      ]
    },
    {
      "metadata": {
        "id": "rpUAhSJLN3xA",
        "colab_type": "code",
        "outputId": "143bb6b3-63c5-4062-c6ae-3790b4c6dd27",
        "colab": {
          "base_uri": "https://localhost:8080/",
          "height": 68
        }
      },
      "cell_type": "code",
      "source": [
        "G = np.zeros((r, r))\n",
        "G[0, 0] = 1./5\n",
        "G[1, 1] = 1.e-10\n",
        "G[2, 2] = 1./2\n",
        "G[3, 3] = 1./5\n",
        "G[4, 4] = 1.e-10\n",
        "G[5, 5] = 1./10\n",
        "G[6, 6] = 1./2\n",
        "G[7, 7] = 1./4\n",
        "G[8, 8] = 1.e-10\n",
        "\n",
        "Vs = np.zeros((r, 1))\n",
        "Is = np.zeros((r, 1))\n",
        "Is[1,0] = 1\n",
        "Is[4,0] = 2\n",
        "Is[8,0] = 3\n",
        "\n",
        "Is = np.matrix(Is)\n",
        "Vs = np.matrix(Vs)\n",
        "G = np.matrix(G)\n",
        "A = np.matrix(A)\n",
        "Gbarra = A*G*A.T\n",
        "Is_no = A*(G*Vs - Is)\n",
        "E = Gbarra.I*Is_no\n",
        "Gbarra"
      ],
      "execution_count": 0,
      "outputs": [
        {
          "output_type": "execute_result",
          "data": {
            "text/plain": [
              "matrix([[ 0.9 , -0.2 , -0.7 ],\n",
              "        [-0.2 ,  0.55, -0.1 ],\n",
              "        [-0.7 , -0.1 ,  1.3 ]])"
            ]
          },
          "metadata": {
            "tags": []
          },
          "execution_count": 14
        }
      ]
    },
    {
      "metadata": {
        "id": "yPhm7BxJN9Br",
        "colab_type": "code",
        "outputId": "6afc23e8-272f-402f-bda2-0cbfaaef9807",
        "colab": {
          "base_uri": "https://localhost:8080/",
          "height": 68
        }
      },
      "cell_type": "code",
      "source": [
        "Is_no"
      ],
      "execution_count": 0,
      "outputs": [
        {
          "output_type": "execute_result",
          "data": {
            "text/plain": [
              "matrix([[ 3.],\n",
              "        [ 1.],\n",
              "        [-1.]])"
            ]
          },
          "metadata": {
            "tags": []
          },
          "execution_count": 16
        }
      ]
    },
    {
      "metadata": {
        "id": "YcbF81aUPA-a",
        "colab_type": "code",
        "outputId": "e1ed88b0-edd7-469b-b990-f1672cfecec7",
        "colab": {
          "base_uri": "https://localhost:8080/",
          "height": 68
        }
      },
      "cell_type": "code",
      "source": [
        "E"
      ],
      "execution_count": 0,
      "outputs": [
        {
          "output_type": "execute_result",
          "data": {
            "text/plain": [
              "matrix([[7.15789474],\n",
              "        [5.05263158],\n",
              "        [3.47368421]])"
            ]
          },
          "metadata": {
            "tags": []
          },
          "execution_count": 18
        }
      ]
    }
  ]
}