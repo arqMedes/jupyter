{
 "cells": [
  {
   "cell_type": "markdown",
   "metadata": {},
   "source": [
    "$\\textbf{Questão 01 -}$ Um gerador em delta, sequencia abc, 380 V alimenta dois motores:\n",
    "* M1 60 KW FP 0,6 INDUTIVO\n",
    "* M2 75 KVA FP 0,8 INDUTIVO\n",
    "\n",
    "Calcule:\n",
    "* Potência Ativa, Reativa e Aparente Total, Fator de Potência e Corrente Total."
   ]
  },
  {
   "cell_type": "code",
   "execution_count": 2,
   "metadata": {
    "collapsed": true
   },
   "outputs": [],
   "source": [
    "import numpy as np\n",
    "\n",
    "def S_ret(N, fp, cap = 0):\n",
    "    # default não é capacitivo\n",
    "    P = N*fp\n",
    "\n",
    "    Q = np.sqrt(N*N - P*P)\n",
    "    if cap:\n",
    "        Q = -Q\n",
    "\n",
    "    S = P + Q*1j\n",
    "\n",
    "    return S"
   ]
  },
  {
   "cell_type": "code",
   "execution_count": 3,
   "metadata": {
    "collapsed": false
   },
   "outputs": [
    {
     "name": "stdout",
     "output_type": "stream",
     "text": [
      "------------------------------ \n",
      "Questao 01\n",
      "Stotal =  (120+96.3097162398j)\n",
      "Itotal =  0.233779227572\n",
      "FP TOTAL =  0.77988596135\n"
     ]
    }
   ],
   "source": [
    "print (30*\"-\", \"\\nQuestao 01\")\n",
    "Vlinha = 380\n",
    "M1 = S_ret(60/0.76, 0.76)\n",
    "M2 = S_ret(75, 0.8)\n",
    "STOTAL = M1 + M2\n",
    "FPT = STOTAL.real/abs(STOTAL)\n",
    "ITOTAL = abs(STOTAL)/(np.sqrt(3)*Vlinha)\n",
    "\n",
    "print (\"Stotal = \", STOTAL)\n",
    "print (\"Itotal = \", ITOTAL)\n",
    "print (\"FP TOTAL = \", FPT)"
   ]
  },
  {
   "cell_type": "markdown",
   "metadata": {},
   "source": [
    "$\\textbf{Questão 2 -}$ Um gerador em estrela, 127 V na linha alimenta uma carga em Y com resistência de 25 $\\Omega$\n",
    "     \n",
    "Qual a corrente Ilinha ? Qual a Potência Ativa P ? "
   ]
  },
  {
   "cell_type": "code",
   "execution_count": 5,
   "metadata": {
    "collapsed": false
   },
   "outputs": [
    {
     "name": "stdout",
     "output_type": "stream",
     "text": [
      "------------------------------ \n",
      "Questao 02\n",
      "Ilinha =  2.93293936748\n",
      "Potencia dissipada trifasica =  645.16\n"
     ]
    }
   ],
   "source": [
    "print (30*\"-\", \"\\nQuestao 02\")\n",
    "Vlinha = 127\n",
    "R = 25\n",
    "Vf = Vlinha/np.sqrt(3)\n",
    "If = Vf/R\n",
    "print (\"Ilinha = \", If)\n",
    "P = Vf*If\n",
    "print (\"Potencia dissipada trifasica = \", 3*P)"
   ]
  },
  {
   "cell_type": "markdown",
   "metadata": {},
   "source": [
    "$\\textbf{Questão 2 -}$ A seguinte instalação elétrica possui as seguintes cargas:\\begin{itemize}\n",
    "    \\item Carga 1: 250 KVA, fator de potência 0.8 atrasado;\n",
    "        \\item Carga 2: 300 KVA, fator de potência 0.95 adiantado;\n",
    "            \\item Carga 3: 450 KVA, fator de potência unitário.\n",
    " \\end{itemize}\n",
    "\n",
    "Se a tensão de linha é 13.8 KV, calcule a corrente de linha e o fator de potência na fonte. Assuma que a impedância de linha é zero."
   ]
  },
  {
   "cell_type": "code",
   "execution_count": 7,
   "metadata": {
    "collapsed": false
   },
   "outputs": [
    {
     "name": "stdout",
     "output_type": "stream",
     "text": [
      "------------------------------ \n",
      "Questao 03\n",
      "FP TOTAL =  0.99819045417\n",
      "Itotal =  67.8764487331\n"
     ]
    }
   ],
   "source": [
    "print (30*\"-\", \"\\nQuestao 03\")\n",
    "Vlinha = 13.8\n",
    "C1 = S_ret(250, 0.8)\n",
    "C2 = S_ret(300, 0.95,2)\n",
    "C3 = S_ret(450, 1)\n",
    "STOTAL = C1+C2+C3\n",
    "FPT = STOTAL.real/abs(STOTAL)\n",
    "ITOTAL = abs(STOTAL)/Vlinha\n",
    "\n",
    "print (\"FP TOTAL = \", FPT)\n",
    "print (\"Itotal = \", ITOTAL) "
   ]
  },
  {
   "cell_type": "code",
   "execution_count": null,
   "metadata": {
    "collapsed": true
   },
   "outputs": [],
   "source": []
  }
 ],
 "metadata": {
  "kernelspec": {
   "display_name": "Python [Root]",
   "language": "python",
   "name": "Python [Root]"
  },
  "language_info": {
   "codemirror_mode": {
    "name": "ipython",
    "version": 3
   },
   "file_extension": ".py",
   "mimetype": "text/x-python",
   "name": "python",
   "nbconvert_exporter": "python",
   "pygments_lexer": "ipython3",
   "version": "3.5.2"
  }
 },
 "nbformat": 4,
 "nbformat_minor": 0
}
