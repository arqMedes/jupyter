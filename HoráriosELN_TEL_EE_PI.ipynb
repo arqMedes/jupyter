{
 "cells": [
  {
   "cell_type": "markdown",
   "metadata": {},
   "source": [
    "<img src=\"http://ifg.edu.br/images/ifg/campus/goiania/logo/logo-ifg-vertical-goiania.png\"  height=\"250\" width=\"250\">\n",
    "# H o r á r i o s    \n",
    "\n",
    "* Novo\n",
    "\n",
    "* Importar\n",
    "\n",
    "* [Abrir para Consulta e/ou Edição](Consultas_19-1.ipynb \"Clique e acesse agora!\")"
   ]
  },
  {
   "cell_type": "code",
   "execution_count": null,
   "metadata": {},
   "outputs": [],
   "source": []
  }
 ],
 "metadata": {
  "kernelspec": {
   "display_name": "Python 3",
   "language": "python",
   "name": "python3"
  },
  "language_info": {
   "codemirror_mode": {
    "name": "ipython",
    "version": 3
   },
   "file_extension": ".py",
   "mimetype": "text/x-python",
   "name": "python",
   "nbconvert_exporter": "python",
   "pygments_lexer": "ipython3",
   "version": "3.6.5"
  }
 },
 "nbformat": 4,
 "nbformat_minor": 2
}
