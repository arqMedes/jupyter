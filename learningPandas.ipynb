{
 "cells": [
  {
   "cell_type": "code",
   "execution_count": null,
   "metadata": {
    "collapsed": true
   },
   "outputs": [],
   "source": [
    "# Manipulação de Dados com Pandas\n",
    "Jupyter Notebook desenvolvido por [Arquimedes L. S.](https://github.com/ArqMedes)\n",
    "<center> Baseado no Livro:  Python Data Science Handbook de Jake VanderPlas - [github](https://jakevdp.github.io/PythonDataScienceHandbook/)</center>"
   ]
  },
  {
   "cell_type": "code",
   "execution_count": 1,
   "metadata": {
    "collapsed": true
   },
   "outputs": [],
   "source": [
    "import pandas as pd\n",
    "import numpy as np"
   ]
  },
  {
   "cell_type": "code",
   "execution_count": 5,
   "metadata": {
    "collapsed": false
   },
   "outputs": [
    {
     "data": {
      "text/plain": [
       "'0.18.1'"
      ]
     },
     "execution_count": 5,
     "metadata": {},
     "output_type": "execute_result"
    }
   ],
   "source": [
    "pd.__version__"
   ]
  },
  {
   "cell_type": "code",
   "execution_count": 6,
   "metadata": {
    "collapsed": true
   },
   "outputs": [],
   "source": [
    "pd?"
   ]
  },
  {
   "cell_type": "markdown",
   "metadata": {
    "collapsed": true
   },
   "source": [
    "# O objeto Series do Pandas\n",
    "Series é um vetor de dados indexados. Ele pode ser criado de uma lista. \n"
   ]
  },
  {
   "cell_type": "code",
   "execution_count": 4,
   "metadata": {
    "collapsed": true
   },
   "outputs": [],
   "source": [
    "s = pd.Series(['Matemática', 10, 'Português',7, 'Informática', 8],\n",
    "             index=['a', 'b', 'c','d','e', 'f'])"
   ]
  },
  {
   "cell_type": "code",
   "execution_count": 5,
   "metadata": {
    "collapsed": false
   },
   "outputs": [
    {
     "data": {
      "text/plain": [
       "array(['Matemática', 10, 'Português', 7, 'Informática', 8], dtype=object)"
      ]
     },
     "execution_count": 5,
     "metadata": {},
     "output_type": "execute_result"
    }
   ],
   "source": [
    "s.values"
   ]
  },
  {
   "cell_type": "code",
   "execution_count": 6,
   "metadata": {
    "collapsed": false
   },
   "outputs": [
    {
     "data": {
      "text/plain": [
       "Index(['a', 'b', 'c', 'd', 'e', 'f'], dtype='object')"
      ]
     },
     "execution_count": 6,
     "metadata": {},
     "output_type": "execute_result"
    }
   ],
   "source": [
    "s.index"
   ]
  },
  {
   "cell_type": "code",
   "execution_count": 7,
   "metadata": {
    "collapsed": false
   },
   "outputs": [
    {
     "data": {
      "text/plain": [
       "True"
      ]
     },
     "execution_count": 7,
     "metadata": {},
     "output_type": "execute_result"
    }
   ],
   "source": [
    "s[-1] == s['f']"
   ]
  },
  {
   "cell_type": "code",
   "execution_count": 8,
   "metadata": {
    "collapsed": false
   },
   "outputs": [
    {
     "data": {
      "text/plain": [
       "b           10\n",
       "c    Português\n",
       "d            7\n",
       "dtype: object"
      ]
     },
     "execution_count": 8,
     "metadata": {},
     "output_type": "execute_result"
    }
   ],
   "source": [
    "s[1:4]"
   ]
  },
  {
   "cell_type": "markdown",
   "metadata": {
    "collapsed": true
   },
   "source": [
    "## Series como um dicionário especializado\n",
    "Um dicionário é uma estrutura que mapeia arbitrariamente chaves para um conjunto arbitrário de valores, e um Series é uma\n",
    "estrutura que mapeia chaves tipificada para um conjuto típico de valores. ..."
   ]
  },
  {
   "cell_type": "code",
   "execution_count": 10,
   "metadata": {
    "collapsed": true
   },
   "outputs": [],
   "source": [
    "d = {'Matemática': 10, 'Português':7, 'Informática': 8, 'Inglês': 9, 'Filosofia': 6}"
   ]
  },
  {
   "cell_type": "code",
   "execution_count": 11,
   "metadata": {
    "collapsed": true
   },
   "outputs": [],
   "source": [
    "notas = pd.Series(d)"
   ]
  },
  {
   "cell_type": "code",
   "execution_count": 12,
   "metadata": {
    "collapsed": false
   },
   "outputs": [
    {
     "data": {
      "text/plain": [
       "Filosofia       6\n",
       "Informática     8\n",
       "Inglês          9\n",
       "Matemática     10\n",
       "Português       7\n",
       "dtype: int64"
      ]
     },
     "execution_count": 12,
     "metadata": {},
     "output_type": "execute_result"
    }
   ],
   "source": [
    "notas"
   ]
  },
  {
   "cell_type": "code",
   "execution_count": 13,
   "metadata": {
    "collapsed": false
   },
   "outputs": [
    {
     "data": {
      "text/plain": [
       "Informática     8\n",
       "Inglês          9\n",
       "Matemática     10\n",
       "dtype: int64"
      ]
     },
     "execution_count": 13,
     "metadata": {},
     "output_type": "execute_result"
    }
   ],
   "source": [
    "notas[notas > 7]"
   ]
  },
  {
   "cell_type": "code",
   "execution_count": 14,
   "metadata": {
    "collapsed": false
   },
   "outputs": [
    {
     "data": {
      "text/plain": [
       "Inglês         9\n",
       "Matemática    10\n",
       "Português      7\n",
       "dtype: int64"
      ]
     },
     "execution_count": 14,
     "metadata": {},
     "output_type": "execute_result"
    }
   ],
   "source": [
    "notas['Inglês':'Português']"
   ]
  },
  {
   "cell_type": "code",
   "execution_count": null,
   "metadata": {
    "collapsed": true
   },
   "outputs": [],
   "source": []
  },
  {
   "cell_type": "markdown",
   "metadata": {
    "collapsed": true
   },
   "source": [
    "# DataFrame\n",
    "O DataFrame é uma generalização de uma array Numpy (conjunto de Séries), ou um dicionário especializado Python.\n",
    "\n",
    "## Conjunto de Séries"
   ]
  },
  {
   "cell_type": "code",
   "execution_count": 15,
   "metadata": {
    "collapsed": true
   },
   "outputs": [],
   "source": [
    "d = {'Matemática': 7, 'Português':6, 'Informática': 6, 'Inglês': 4, 'Filosofia': 9}"
   ]
  },
  {
   "cell_type": "code",
   "execution_count": 16,
   "metadata": {
    "collapsed": true
   },
   "outputs": [],
   "source": [
    "outras_notas = pd.Series(d)"
   ]
  },
  {
   "cell_type": "code",
   "execution_count": 17,
   "metadata": {
    "collapsed": true
   },
   "outputs": [],
   "source": [
    "turma = pd.DataFrame({'Aluno1': notas,\n",
    "                      'Aluno2':outras_notas})"
   ]
  },
  {
   "cell_type": "code",
   "execution_count": 18,
   "metadata": {
    "collapsed": false
   },
   "outputs": [
    {
     "data": {
      "text/html": [
       "<div>\n",
       "<table border=\"1\" class=\"dataframe\">\n",
       "  <thead>\n",
       "    <tr style=\"text-align: right;\">\n",
       "      <th></th>\n",
       "      <th>Aluno1</th>\n",
       "      <th>Aluno2</th>\n",
       "    </tr>\n",
       "  </thead>\n",
       "  <tbody>\n",
       "    <tr>\n",
       "      <th>Filosofia</th>\n",
       "      <td>6</td>\n",
       "      <td>9</td>\n",
       "    </tr>\n",
       "    <tr>\n",
       "      <th>Informática</th>\n",
       "      <td>8</td>\n",
       "      <td>6</td>\n",
       "    </tr>\n",
       "    <tr>\n",
       "      <th>Inglês</th>\n",
       "      <td>9</td>\n",
       "      <td>4</td>\n",
       "    </tr>\n",
       "    <tr>\n",
       "      <th>Matemática</th>\n",
       "      <td>10</td>\n",
       "      <td>7</td>\n",
       "    </tr>\n",
       "    <tr>\n",
       "      <th>Português</th>\n",
       "      <td>7</td>\n",
       "      <td>6</td>\n",
       "    </tr>\n",
       "  </tbody>\n",
       "</table>\n",
       "</div>"
      ],
      "text/plain": [
       "             Aluno1  Aluno2\n",
       "Filosofia         6       9\n",
       "Informática       8       6\n",
       "Inglês            9       4\n",
       "Matemática       10       7\n",
       "Português         7       6"
      ]
     },
     "execution_count": 18,
     "metadata": {},
     "output_type": "execute_result"
    }
   ],
   "source": [
    "turma"
   ]
  },
  {
   "cell_type": "code",
   "execution_count": 19,
   "metadata": {
    "collapsed": false
   },
   "outputs": [
    {
     "data": {
      "text/plain": [
       "Index(['Filosofia', 'Informática', 'Inglês', 'Matemática', 'Português'], dtype='object')"
      ]
     },
     "execution_count": 19,
     "metadata": {},
     "output_type": "execute_result"
    }
   ],
   "source": [
    "turma.index"
   ]
  },
  {
   "cell_type": "code",
   "execution_count": 20,
   "metadata": {
    "collapsed": false
   },
   "outputs": [
    {
     "data": {
      "text/plain": [
       "Index(['Aluno1', 'Aluno2'], dtype='object')"
      ]
     },
     "execution_count": 20,
     "metadata": {},
     "output_type": "execute_result"
    }
   ],
   "source": [
    "turma.columns"
   ]
  },
  {
   "cell_type": "markdown",
   "metadata": {},
   "source": [
    "Thus the DataFrame can be thought of as a generalization of a two-dimensional NumPy array, where both the rows and columns have a generalized index for accessing the data."
   ]
  },
  {
   "cell_type": "code",
   "execution_count": 1,
   "metadata": {
    "collapsed": false
   },
   "outputs": [
    {
     "name": "stdout",
     "output_type": "stream",
     "text": [
      "campeonato.csv\tlearningPandas.ipynb  matriz_EE.csv\r\n"
     ]
    }
   ],
   "source": [
    "!ls"
   ]
  },
  {
   "cell_type": "code",
   "execution_count": 2,
   "metadata": {
    "collapsed": false
   },
   "outputs": [
    {
     "name": "stdout",
     "output_type": "stream",
     "text": [
      "CóDIGO;COMPONENTE CURRICULAR;Nº PERíODO;OPT.;CRéDITOS\r\n",
      "DPAA-2.086;CáLCULO DIFERENCIAL E INTEGRAL I(81H);1;NãO;81\r\n",
      "10321.4;GEOMETRIA ANALíTICA(54H);1;NãO;54\r\n",
      "DPAA-4.304;ALGORITMOS E TéCNICAS DE PROGRAMAçãO(54H);1;NãO;54\r\n",
      "DPAA-4.309;INTRODUçãO à ENGENHARIA ELéTRICA(27H);1;NãO;27\r\n"
     ]
    }
   ],
   "source": [
    "!head -n 5 matriz_EE.csv"
   ]
  },
  {
   "cell_type": "code",
   "execution_count": 21,
   "metadata": {
    "collapsed": false
   },
   "outputs": [
    {
     "name": "stdout",
     "output_type": "stream",
     "text": [
      "Ano,Time,Vitórias,Derrotas\r\n",
      "2010,Flamengo,15,2\r\n",
      "2011,Flamengo,16,0\r\n",
      "2012,Flamengo,17,1\r\n",
      "2010,Grêmio,12,4\r\n"
     ]
    }
   ],
   "source": [
    "!head -n 5 campeonato.csv"
   ]
  },
  {
   "cell_type": "code",
   "execution_count": 2,
   "metadata": {
    "collapsed": false
   },
   "outputs": [],
   "source": [
    "csv = pd.read_csv('matriz_EE.csv', sep=';')"
   ]
  },
  {
   "cell_type": "code",
   "execution_count": 3,
   "metadata": {
    "collapsed": false
   },
   "outputs": [
    {
     "data": {
      "text/html": [
       "<div>\n",
       "<table border=\"1\" class=\"dataframe\">\n",
       "  <thead>\n",
       "    <tr style=\"text-align: right;\">\n",
       "      <th></th>\n",
       "      <th>CODIGO</th>\n",
       "      <th>COMP_CURRICULAR</th>\n",
       "      <th>PERIODO</th>\n",
       "      <th>OPT</th>\n",
       "      <th>CREDITOS</th>\n",
       "    </tr>\n",
       "  </thead>\n",
       "  <tbody>\n",
       "    <tr>\n",
       "      <th>0</th>\n",
       "      <td>DPAA-2.086</td>\n",
       "      <td>CáLCULO DIFERENCIAL E INTEGRAL I(81H)</td>\n",
       "      <td>1</td>\n",
       "      <td>NãO</td>\n",
       "      <td>81</td>\n",
       "    </tr>\n",
       "    <tr>\n",
       "      <th>1</th>\n",
       "      <td>10321.4</td>\n",
       "      <td>GEOMETRIA ANALíTICA(54H)</td>\n",
       "      <td>1</td>\n",
       "      <td>NãO</td>\n",
       "      <td>54</td>\n",
       "    </tr>\n",
       "    <tr>\n",
       "      <th>2</th>\n",
       "      <td>DPAA-4.304</td>\n",
       "      <td>ALGORITMOS E TéCNICAS DE PROGRAMAçãO(54H)</td>\n",
       "      <td>1</td>\n",
       "      <td>NãO</td>\n",
       "      <td>54</td>\n",
       "    </tr>\n",
       "    <tr>\n",
       "      <th>3</th>\n",
       "      <td>DPAA-4.309</td>\n",
       "      <td>INTRODUçãO à ENGENHARIA ELéTRICA(27H)</td>\n",
       "      <td>1</td>\n",
       "      <td>NãO</td>\n",
       "      <td>27</td>\n",
       "    </tr>\n",
       "    <tr>\n",
       "      <th>4</th>\n",
       "      <td>DPAA-1.086</td>\n",
       "      <td>LíNGUA PORTUGUESA(54H)</td>\n",
       "      <td>1</td>\n",
       "      <td>NãO</td>\n",
       "      <td>54</td>\n",
       "    </tr>\n",
       "  </tbody>\n",
       "</table>\n",
       "</div>"
      ],
      "text/plain": [
       "       CODIGO                            COMP_CURRICULAR  PERIODO  OPT  \\\n",
       "0  DPAA-2.086      CáLCULO DIFERENCIAL E INTEGRAL I(81H)        1  NãO   \n",
       "1     10321.4                   GEOMETRIA ANALíTICA(54H)        1  NãO   \n",
       "2  DPAA-4.304  ALGORITMOS E TéCNICAS DE PROGRAMAçãO(54H)        1  NãO   \n",
       "3  DPAA-4.309      INTRODUçãO à ENGENHARIA ELéTRICA(27H)        1  NãO   \n",
       "4  DPAA-1.086                     LíNGUA PORTUGUESA(54H)        1  NãO   \n",
       "\n",
       "   CREDITOS  \n",
       "0        81  \n",
       "1        54  \n",
       "2        54  \n",
       "3        27  \n",
       "4        54  "
      ]
     },
     "execution_count": 3,
     "metadata": {},
     "output_type": "execute_result"
    }
   ],
   "source": [
    "csv.head()"
   ]
  },
  {
   "cell_type": "code",
   "execution_count": 28,
   "metadata": {
    "collapsed": false
   },
   "outputs": [
    {
     "name": "stdout",
     "output_type": "stream",
     "text": [
      "Entre o Período1\n"
     ]
    }
   ],
   "source": [
    "# Entre o período\n",
    "p = int(input('Entre o Período'))"
   ]
  },
  {
   "cell_type": "code",
   "execution_count": 29,
   "metadata": {
    "collapsed": false
   },
   "outputs": [
    {
     "name": "stdout",
     "output_type": "stream",
     "text": [
      "Disciplinas do 1 º Período\n"
     ]
    },
    {
     "data": {
      "text/html": [
       "<div>\n",
       "<table border=\"1\" class=\"dataframe\">\n",
       "  <thead>\n",
       "    <tr style=\"text-align: right;\">\n",
       "      <th></th>\n",
       "      <th>CODIGO</th>\n",
       "      <th>COMP_CURRICULAR</th>\n",
       "      <th>OPT</th>\n",
       "      <th>CREDITOS</th>\n",
       "    </tr>\n",
       "  </thead>\n",
       "  <tbody>\n",
       "    <tr>\n",
       "      <th>0</th>\n",
       "      <td>DPAA-2.086</td>\n",
       "      <td>CáLCULO DIFERENCIAL E INTEGRAL I(81H)</td>\n",
       "      <td>NãO</td>\n",
       "      <td>81</td>\n",
       "    </tr>\n",
       "    <tr>\n",
       "      <th>1</th>\n",
       "      <td>10321.4</td>\n",
       "      <td>GEOMETRIA ANALíTICA(54H)</td>\n",
       "      <td>NãO</td>\n",
       "      <td>54</td>\n",
       "    </tr>\n",
       "    <tr>\n",
       "      <th>2</th>\n",
       "      <td>DPAA-4.304</td>\n",
       "      <td>ALGORITMOS E TéCNICAS DE PROGRAMAçãO(54H)</td>\n",
       "      <td>NãO</td>\n",
       "      <td>54</td>\n",
       "    </tr>\n",
       "    <tr>\n",
       "      <th>3</th>\n",
       "      <td>DPAA-4.309</td>\n",
       "      <td>INTRODUçãO à ENGENHARIA ELéTRICA(27H)</td>\n",
       "      <td>NãO</td>\n",
       "      <td>27</td>\n",
       "    </tr>\n",
       "    <tr>\n",
       "      <th>4</th>\n",
       "      <td>DPAA-1.086</td>\n",
       "      <td>LíNGUA PORTUGUESA(54H)</td>\n",
       "      <td>NãO</td>\n",
       "      <td>54</td>\n",
       "    </tr>\n",
       "    <tr>\n",
       "      <th>5</th>\n",
       "      <td>DPAA-2.274</td>\n",
       "      <td>FíSICA: MECâNICA(54H)</td>\n",
       "      <td>NãO</td>\n",
       "      <td>54</td>\n",
       "    </tr>\n",
       "    <tr>\n",
       "      <th>6</th>\n",
       "      <td>DPAA-2.275</td>\n",
       "      <td>LABORATóRIO DE MECâNICA(27H)</td>\n",
       "      <td>NãO</td>\n",
       "      <td>27</td>\n",
       "    </tr>\n",
       "  </tbody>\n",
       "</table>\n",
       "</div>"
      ],
      "text/plain": [
       "       CODIGO                            COMP_CURRICULAR  OPT  CREDITOS\n",
       "0  DPAA-2.086      CáLCULO DIFERENCIAL E INTEGRAL I(81H)  NãO        81\n",
       "1     10321.4                   GEOMETRIA ANALíTICA(54H)  NãO        54\n",
       "2  DPAA-4.304  ALGORITMOS E TéCNICAS DE PROGRAMAçãO(54H)  NãO        54\n",
       "3  DPAA-4.309      INTRODUçãO à ENGENHARIA ELéTRICA(27H)  NãO        27\n",
       "4  DPAA-1.086                     LíNGUA PORTUGUESA(54H)  NãO        54\n",
       "5  DPAA-2.274                      FíSICA: MECâNICA(54H)  NãO        54\n",
       "6  DPAA-2.275               LABORATóRIO DE MECâNICA(27H)  NãO        27"
      ]
     },
     "execution_count": 29,
     "metadata": {},
     "output_type": "execute_result"
    }
   ],
   "source": [
    "csvP = csv[csv['PERIODO']  == p].head(10)\n",
    "#Removendo colunas utilizando o argumento axis=1\n",
    "print ('Disciplinas do %d º Período' % p)\n",
    "csvP.drop('PERIODO', axis=1)"
   ]
  },
  {
   "cell_type": "code",
   "execution_count": 31,
   "metadata": {
    "collapsed": false
   },
   "outputs": [],
   "source": [
    "xlsx = pd.ExcelFile('preRequisitos_matriz_EE.xls')\n",
    "df = pd.read_excel(xlsx)"
   ]
  },
  {
   "cell_type": "code",
   "execution_count": 33,
   "metadata": {
    "collapsed": false
   },
   "outputs": [
    {
     "data": {
      "text/html": [
       "<div>\n",
       "<table border=\"1\" class=\"dataframe\">\n",
       "  <thead>\n",
       "    <tr style=\"text-align: right;\">\n",
       "      <th></th>\n",
       "      <th>deA</th>\n",
       "      <th>paraB</th>\n",
       "    </tr>\n",
       "  </thead>\n",
       "  <tbody>\n",
       "    <tr>\n",
       "      <th>0</th>\n",
       "      <td>10376.0S</td>\n",
       "      <td>NaN</td>\n",
       "    </tr>\n",
       "    <tr>\n",
       "      <th>1</th>\n",
       "      <td>DPAA-2.116</td>\n",
       "      <td>NaN</td>\n",
       "    </tr>\n",
       "    <tr>\n",
       "      <th>2</th>\n",
       "      <td>10329.0S</td>\n",
       "      <td>NaN</td>\n",
       "    </tr>\n",
       "    <tr>\n",
       "      <th>3</th>\n",
       "      <td>DPAA-4.378</td>\n",
       "      <td>NaN</td>\n",
       "    </tr>\n",
       "    <tr>\n",
       "      <th>4</th>\n",
       "      <td>DPAA-4.379</td>\n",
       "      <td>NaN</td>\n",
       "    </tr>\n",
       "  </tbody>\n",
       "</table>\n",
       "</div>"
      ],
      "text/plain": [
       "          deA  paraB\n",
       "0    10376.0S    NaN\n",
       "1  DPAA-2.116    NaN\n",
       "2    10329.0S    NaN\n",
       "3  DPAA-4.378    NaN\n",
       "4  DPAA-4.379    NaN"
      ]
     },
     "execution_count": 33,
     "metadata": {},
     "output_type": "execute_result"
    }
   ],
   "source": [
    "df.head()"
   ]
  },
  {
   "cell_type": "code",
   "execution_count": 5,
   "metadata": {
    "collapsed": false
   },
   "outputs": [
    {
     "data": {
      "text/plain": [
       "(99, 5)"
      ]
     },
     "execution_count": 5,
     "metadata": {},
     "output_type": "execute_result"
    }
   ],
   "source": [
    "#Quantidade de linhas e colunas do DataFrame\n",
    "csv.shape"
   ]
  },
  {
   "cell_type": "code",
   "execution_count": 15,
   "metadata": {
    "collapsed": false
   },
   "outputs": [
    {
     "data": {
      "text/html": [
       "<div>\n",
       "<table border=\"1\" class=\"dataframe\">\n",
       "  <thead>\n",
       "    <tr style=\"text-align: right;\">\n",
       "      <th></th>\n",
       "      <th>PERIODO</th>\n",
       "      <th>CREDITOS</th>\n",
       "    </tr>\n",
       "  </thead>\n",
       "  <tbody>\n",
       "    <tr>\n",
       "      <th>count</th>\n",
       "      <td>99.000000</td>\n",
       "      <td>99.000000</td>\n",
       "    </tr>\n",
       "    <tr>\n",
       "      <th>mean</th>\n",
       "      <td>6.717172</td>\n",
       "      <td>48.020202</td>\n",
       "    </tr>\n",
       "    <tr>\n",
       "      <th>std</th>\n",
       "      <td>3.097202</td>\n",
       "      <td>16.101705</td>\n",
       "    </tr>\n",
       "    <tr>\n",
       "      <th>min</th>\n",
       "      <td>1.000000</td>\n",
       "      <td>2.000000</td>\n",
       "    </tr>\n",
       "    <tr>\n",
       "      <th>25%</th>\n",
       "      <td>4.000000</td>\n",
       "      <td>27.000000</td>\n",
       "    </tr>\n",
       "    <tr>\n",
       "      <th>50%</th>\n",
       "      <td>8.000000</td>\n",
       "      <td>54.000000</td>\n",
       "    </tr>\n",
       "    <tr>\n",
       "      <th>75%</th>\n",
       "      <td>9.000000</td>\n",
       "      <td>54.000000</td>\n",
       "    </tr>\n",
       "    <tr>\n",
       "      <th>max</th>\n",
       "      <td>10.000000</td>\n",
       "      <td>81.000000</td>\n",
       "    </tr>\n",
       "  </tbody>\n",
       "</table>\n",
       "</div>"
      ],
      "text/plain": [
       "         PERIODO   CREDITOS\n",
       "count  99.000000  99.000000\n",
       "mean    6.717172  48.020202\n",
       "std     3.097202  16.101705\n",
       "min     1.000000   2.000000\n",
       "25%     4.000000  27.000000\n",
       "50%     8.000000  54.000000\n",
       "75%     9.000000  54.000000\n",
       "max    10.000000  81.000000"
      ]
     },
     "execution_count": 15,
     "metadata": {},
     "output_type": "execute_result"
    }
   ],
   "source": [
    "#Resumo estatístico do DataFrame, com quartis, mediana, etc.\n",
    "csv.describe()"
   ]
  },
  {
   "cell_type": "code",
   "execution_count": 6,
   "metadata": {
    "collapsed": false
   },
   "outputs": [
    {
     "data": {
      "text/plain": [
       "RangeIndex(start=0, stop=99, step=1)"
      ]
     },
     "execution_count": 6,
     "metadata": {},
     "output_type": "execute_result"
    }
   ],
   "source": [
    "#Descrição do Index\n",
    "csv.index"
   ]
  },
  {
   "cell_type": "code",
   "execution_count": 8,
   "metadata": {
    "collapsed": false
   },
   "outputs": [
    {
     "data": {
      "text/plain": [
       "Index(['CODIGO', 'COMP_CURRICULAR', 'PERIODO', 'OPT', 'CREDITOS'], dtype='object')"
      ]
     },
     "execution_count": 8,
     "metadata": {},
     "output_type": "execute_result"
    }
   ],
   "source": [
    "#Colunas presentes no DataFrame\n",
    "csv.columns"
   ]
  },
  {
   "cell_type": "code",
   "execution_count": 9,
   "metadata": {
    "collapsed": false
   },
   "outputs": [
    {
     "data": {
      "text/plain": [
       "CODIGO             99\n",
       "COMP_CURRICULAR    99\n",
       "PERIODO            99\n",
       "OPT                99\n",
       "CREDITOS           99\n",
       "dtype: int64"
      ]
     },
     "execution_count": 9,
     "metadata": {},
     "output_type": "execute_result"
    }
   ],
   "source": [
    "#Contagem de dados não-nulos\n",
    "csv.count()"
   ]
  },
  {
   "cell_type": "markdown",
   "metadata": {},
   "source": [
    "# Resumo dos dados"
   ]
  },
  {
   "cell_type": "code",
   "execution_count": 17,
   "metadata": {
    "collapsed": false
   },
   "outputs": [
    {
     "name": "stdout",
     "output_type": "stream",
     "text": [
      "4754\n",
      "menor\n",
      " CODIGO                                 10321.4\n",
      "COMP_CURRICULAR    ACIONAMENTOS ELéTRICOS(54H)\n",
      "PERIODO                                      1\n",
      "OPT                                        NãO\n",
      "CREDITOS                                     2\n",
      "dtype: object\n"
     ]
    },
    {
     "data": {
      "text/plain": [
       "CODIGO                      DPAA-4.553\n",
       "COMP_CURRICULAR    ÁLGEBRA LINEAR(54H)\n",
       "PERIODO                             10\n",
       "OPT                                SIM\n",
       "CREDITOS                            81\n",
       "dtype: object"
      ]
     },
     "execution_count": 17,
     "metadata": {},
     "output_type": "execute_result"
    }
   ],
   "source": [
    "#Soma dos valores de um DataFrame\n",
    "print (csv['CREDITOS'].sum())\n",
    "#Menor valor de um DataFrame\n",
    "print('menor\\n', csv.min())\n",
    "#Maior valor\n",
    "csv.max()"
   ]
  },
  {
   "cell_type": "code",
   "execution_count": 18,
   "metadata": {
    "collapsed": false
   },
   "outputs": [
    {
     "data": {
      "text/html": [
       "<div>\n",
       "<table border=\"1\" class=\"dataframe\">\n",
       "  <thead>\n",
       "    <tr style=\"text-align: right;\">\n",
       "      <th></th>\n",
       "      <th>CODIGO</th>\n",
       "      <th>COMP_CURRICULAR</th>\n",
       "      <th>PERIODO</th>\n",
       "      <th>OPT</th>\n",
       "      <th>CREDITOS</th>\n",
       "    </tr>\n",
       "  </thead>\n",
       "  <tbody>\n",
       "    <tr>\n",
       "      <th>7</th>\n",
       "      <td>10376.0S</td>\n",
       "      <td>ÁLGEBRA LINEAR(54H)</td>\n",
       "      <td>2</td>\n",
       "      <td>NãO</td>\n",
       "      <td>54</td>\n",
       "    </tr>\n",
       "    <tr>\n",
       "      <th>8</th>\n",
       "      <td>DPAA-2.116</td>\n",
       "      <td>QUíMICA GERAL(54H)</td>\n",
       "      <td>2</td>\n",
       "      <td>NãO</td>\n",
       "      <td>54</td>\n",
       "    </tr>\n",
       "    <tr>\n",
       "      <th>9</th>\n",
       "      <td>10329.0S</td>\n",
       "      <td>CáLCULO DIFERENCIAL E INTEGRAL II(81H)</td>\n",
       "      <td>2</td>\n",
       "      <td>NãO</td>\n",
       "      <td>81</td>\n",
       "    </tr>\n",
       "    <tr>\n",
       "      <th>10</th>\n",
       "      <td>DPAA-4.378</td>\n",
       "      <td>MATERIAS ELéTRICOS(27H)</td>\n",
       "      <td>2</td>\n",
       "      <td>NãO</td>\n",
       "      <td>27</td>\n",
       "    </tr>\n",
       "    <tr>\n",
       "      <th>11</th>\n",
       "      <td>DPAA-4.379</td>\n",
       "      <td>FUNçõES DE VARIáVEIS COMPLEXAS(27H)</td>\n",
       "      <td>2</td>\n",
       "      <td>NãO</td>\n",
       "      <td>27</td>\n",
       "    </tr>\n",
       "    <tr>\n",
       "      <th>12</th>\n",
       "      <td>DPAA-2.278</td>\n",
       "      <td>FíSICA: ELETROMAGNETISMO(54H)</td>\n",
       "      <td>2</td>\n",
       "      <td>NãO</td>\n",
       "      <td>54</td>\n",
       "    </tr>\n",
       "    <tr>\n",
       "      <th>13</th>\n",
       "      <td>DPAA-2.279</td>\n",
       "      <td>LABORATóRIO DE ELETROMAGNETISMO(27H)</td>\n",
       "      <td>2</td>\n",
       "      <td>NãO</td>\n",
       "      <td>27</td>\n",
       "    </tr>\n",
       "    <tr>\n",
       "      <th>14</th>\n",
       "      <td>DPAA-2.191</td>\n",
       "      <td>METODOLOGIA CIENTíFICA(27H)</td>\n",
       "      <td>2</td>\n",
       "      <td>NãO</td>\n",
       "      <td>27</td>\n",
       "    </tr>\n",
       "    <tr>\n",
       "      <th>22</th>\n",
       "      <td>DPAA-4.333</td>\n",
       "      <td>ELETRôNICA DIGITAL I(54H)</td>\n",
       "      <td>4</td>\n",
       "      <td>NãO</td>\n",
       "      <td>54</td>\n",
       "    </tr>\n",
       "    <tr>\n",
       "      <th>23</th>\n",
       "      <td>DPAA-2.100</td>\n",
       "      <td>CáLCULO NUMéRICO(54H)</td>\n",
       "      <td>4</td>\n",
       "      <td>NãO</td>\n",
       "      <td>54</td>\n",
       "    </tr>\n",
       "    <tr>\n",
       "      <th>24</th>\n",
       "      <td>11831.0.54S</td>\n",
       "      <td>ELETRôNICA ANALóGICA(81H)</td>\n",
       "      <td>4</td>\n",
       "      <td>NãO</td>\n",
       "      <td>81</td>\n",
       "    </tr>\n",
       "    <tr>\n",
       "      <th>25</th>\n",
       "      <td>11833.0S</td>\n",
       "      <td>CIRCUITOS ELéTRICOS II(81H)</td>\n",
       "      <td>4</td>\n",
       "      <td>NãO</td>\n",
       "      <td>81</td>\n",
       "    </tr>\n",
       "    <tr>\n",
       "      <th>26</th>\n",
       "      <td>11830.0S</td>\n",
       "      <td>ELETROMAGNETISMO(54H)</td>\n",
       "      <td>4</td>\n",
       "      <td>NãO</td>\n",
       "      <td>54</td>\n",
       "    </tr>\n",
       "    <tr>\n",
       "      <th>27</th>\n",
       "      <td>10781.0.27S</td>\n",
       "      <td>INTRODUçãO à ADMINISTRAçãO(27H)</td>\n",
       "      <td>4</td>\n",
       "      <td>NãO</td>\n",
       "      <td>27</td>\n",
       "    </tr>\n",
       "    <tr>\n",
       "      <th>34</th>\n",
       "      <td>DPAA-4.025</td>\n",
       "      <td>SISTEMAS OPERACIONAIS(54H)</td>\n",
       "      <td>6</td>\n",
       "      <td>NãO</td>\n",
       "      <td>54</td>\n",
       "    </tr>\n",
       "    <tr>\n",
       "      <th>35</th>\n",
       "      <td>DPAA-4.339</td>\n",
       "      <td>DISPOSITIVOS E CIRCUITOS DE RADIOFREQUêNCIA(54H)</td>\n",
       "      <td>6</td>\n",
       "      <td>NãO</td>\n",
       "      <td>54</td>\n",
       "    </tr>\n",
       "    <tr>\n",
       "      <th>36</th>\n",
       "      <td>DPAA-4.340</td>\n",
       "      <td>SISTEMAS DE RADIOENLACE(54H)</td>\n",
       "      <td>6</td>\n",
       "      <td>NãO</td>\n",
       "      <td>54</td>\n",
       "    </tr>\n",
       "    <tr>\n",
       "      <th>37</th>\n",
       "      <td>10951.0.54S</td>\n",
       "      <td>PROCESSAMENTO DIGITAL DE SINAIS(54H)</td>\n",
       "      <td>6</td>\n",
       "      <td>NãO</td>\n",
       "      <td>54</td>\n",
       "    </tr>\n",
       "    <tr>\n",
       "      <th>38</th>\n",
       "      <td>DPAA-2.339</td>\n",
       "      <td>ESTATíSTICA E PROBABILIDADE(54H)</td>\n",
       "      <td>6</td>\n",
       "      <td>NãO</td>\n",
       "      <td>54</td>\n",
       "    </tr>\n",
       "    <tr>\n",
       "      <th>39</th>\n",
       "      <td>DPAA-4.426</td>\n",
       "      <td>MICROCONTROLADORES(27H)</td>\n",
       "      <td>6</td>\n",
       "      <td>NãO</td>\n",
       "      <td>27</td>\n",
       "    </tr>\n",
       "    <tr>\n",
       "      <th>40</th>\n",
       "      <td>DPAA-4.427</td>\n",
       "      <td>TRANSFORMADORES(54H)</td>\n",
       "      <td>6</td>\n",
       "      <td>NãO</td>\n",
       "      <td>54</td>\n",
       "    </tr>\n",
       "    <tr>\n",
       "      <th>47</th>\n",
       "      <td>DPAA-4.346</td>\n",
       "      <td>SISTEMAS DE RADIODIFUSãO(27H)</td>\n",
       "      <td>8</td>\n",
       "      <td>NãO</td>\n",
       "      <td>27</td>\n",
       "    </tr>\n",
       "    <tr>\n",
       "      <th>48</th>\n",
       "      <td>DPAA-4.029</td>\n",
       "      <td>SISTEMAS INTELIGENTES(54H)</td>\n",
       "      <td>8</td>\n",
       "      <td>NãO</td>\n",
       "      <td>54</td>\n",
       "    </tr>\n",
       "    <tr>\n",
       "      <th>49</th>\n",
       "      <td>DPAA-4.348</td>\n",
       "      <td>TéCNICAS DE REDUçãO DE RUíDOS(27H)</td>\n",
       "      <td>8</td>\n",
       "      <td>NãO</td>\n",
       "      <td>27</td>\n",
       "    </tr>\n",
       "    <tr>\n",
       "      <th>50</th>\n",
       "      <td>DPAA-4.349</td>\n",
       "      <td>INSTALAçõES ELéTRICAS PREDIAIS(54H)</td>\n",
       "      <td>8</td>\n",
       "      <td>NãO</td>\n",
       "      <td>54</td>\n",
       "    </tr>\n",
       "    <tr>\n",
       "      <th>51</th>\n",
       "      <td>DPAA-4.429</td>\n",
       "      <td>REDES DE ALTA VELOCIDADE(54H)</td>\n",
       "      <td>8</td>\n",
       "      <td>NãO</td>\n",
       "      <td>54</td>\n",
       "    </tr>\n",
       "    <tr>\n",
       "      <th>52</th>\n",
       "      <td>DPAA-4.430</td>\n",
       "      <td>SUBESTAçõES(54H)</td>\n",
       "      <td>8</td>\n",
       "      <td>NãO</td>\n",
       "      <td>54</td>\n",
       "    </tr>\n",
       "    <tr>\n",
       "      <th>53</th>\n",
       "      <td>DPAA-4.431</td>\n",
       "      <td>COMUNICAçõES ÓPTICAS(54H)</td>\n",
       "      <td>8</td>\n",
       "      <td>NãO</td>\n",
       "      <td>54</td>\n",
       "    </tr>\n",
       "    <tr>\n",
       "      <th>54</th>\n",
       "      <td>DPAA-2.022</td>\n",
       "      <td>SEGURANçA DO TRABALHO(27H)</td>\n",
       "      <td>8</td>\n",
       "      <td>NãO</td>\n",
       "      <td>27</td>\n",
       "    </tr>\n",
       "    <tr>\n",
       "      <th>76</th>\n",
       "      <td>11836.0S</td>\n",
       "      <td>SISTEMAS DE CONTROLE II(54H)</td>\n",
       "      <td>10</td>\n",
       "      <td>NãO</td>\n",
       "      <td>54</td>\n",
       "    </tr>\n",
       "    <tr>\n",
       "      <th>77</th>\n",
       "      <td>DPAA-4.354</td>\n",
       "      <td>PROJETOS DE REDES LóGICAS(27H)</td>\n",
       "      <td>10</td>\n",
       "      <td>NãO</td>\n",
       "      <td>27</td>\n",
       "    </tr>\n",
       "    <tr>\n",
       "      <th>78</th>\n",
       "      <td>DPAA-4.356</td>\n",
       "      <td>LEGISLAçãO E ÉTICA(27H)</td>\n",
       "      <td>10</td>\n",
       "      <td>NãO</td>\n",
       "      <td>27</td>\n",
       "    </tr>\n",
       "    <tr>\n",
       "      <th>79</th>\n",
       "      <td>DPAA-4.357</td>\n",
       "      <td>TRABALHO DE CONCLUSãO DE CURSO II(54H)</td>\n",
       "      <td>10</td>\n",
       "      <td>NãO</td>\n",
       "      <td>54</td>\n",
       "    </tr>\n",
       "    <tr>\n",
       "      <th>80</th>\n",
       "      <td>DPAA-4.350</td>\n",
       "      <td>ANáLISE DE DESEMPENHO DE REDES(27H)</td>\n",
       "      <td>10</td>\n",
       "      <td>NãO</td>\n",
       "      <td>27</td>\n",
       "    </tr>\n",
       "    <tr>\n",
       "      <th>81</th>\n",
       "      <td>DPAA-4.433</td>\n",
       "      <td>REDES INDUSTRIAIS(54H)</td>\n",
       "      <td>10</td>\n",
       "      <td>NãO</td>\n",
       "      <td>54</td>\n",
       "    </tr>\n",
       "    <tr>\n",
       "      <th>82</th>\n",
       "      <td>DPAA-4.435</td>\n",
       "      <td>ANáLISE DE SISTEMAS ELéTRICOS(54H)</td>\n",
       "      <td>10</td>\n",
       "      <td>NãO</td>\n",
       "      <td>54</td>\n",
       "    </tr>\n",
       "    <tr>\n",
       "      <th>83</th>\n",
       "      <td>DPAA-4.502</td>\n",
       "      <td>INTELIGêNCIA EM REDE ELéTRICA(54H)</td>\n",
       "      <td>10</td>\n",
       "      <td>SIM</td>\n",
       "      <td>54</td>\n",
       "    </tr>\n",
       "    <tr>\n",
       "      <th>84</th>\n",
       "      <td>DPAA-4.503</td>\n",
       "      <td>TóPICOS EM SISTEMA ELéTRICOS II - ATERRAMENTO ...</td>\n",
       "      <td>10</td>\n",
       "      <td>SIM</td>\n",
       "      <td>54</td>\n",
       "    </tr>\n",
       "    <tr>\n",
       "      <th>85</th>\n",
       "      <td>DPAA-1.346</td>\n",
       "      <td>INGLêS INSTRUMENTAL(54H)</td>\n",
       "      <td>10</td>\n",
       "      <td>SIM</td>\n",
       "      <td>54</td>\n",
       "    </tr>\n",
       "    <tr>\n",
       "      <th>86</th>\n",
       "      <td>DPAA-1.091</td>\n",
       "      <td>LíNGUA ESTRANGEIRA - ESPANHOL(54H)</td>\n",
       "      <td>10</td>\n",
       "      <td>SIM</td>\n",
       "      <td>54</td>\n",
       "    </tr>\n",
       "    <tr>\n",
       "      <th>87</th>\n",
       "      <td>DPAA-2.220</td>\n",
       "      <td>TOPOGRAFIA I(54H)</td>\n",
       "      <td>10</td>\n",
       "      <td>SIM</td>\n",
       "      <td>54</td>\n",
       "    </tr>\n",
       "    <tr>\n",
       "      <th>88</th>\n",
       "      <td>DPAA-2.224</td>\n",
       "      <td>TOPOGRAFIA II(54H)</td>\n",
       "      <td>10</td>\n",
       "      <td>SIM</td>\n",
       "      <td>54</td>\n",
       "    </tr>\n",
       "    <tr>\n",
       "      <th>89</th>\n",
       "      <td>DPAA-4.158</td>\n",
       "      <td>EMPREENDEDORISMO E PLANEJAMENTO PROFISSIONAL(54H)</td>\n",
       "      <td>10</td>\n",
       "      <td>SIM</td>\n",
       "      <td>54</td>\n",
       "    </tr>\n",
       "    <tr>\n",
       "      <th>90</th>\n",
       "      <td>DPAA-4.311</td>\n",
       "      <td>INTRODUçãO à ROBóTICA(54H)</td>\n",
       "      <td>10</td>\n",
       "      <td>SIM</td>\n",
       "      <td>54</td>\n",
       "    </tr>\n",
       "    <tr>\n",
       "      <th>91</th>\n",
       "      <td>DPAA-4.183</td>\n",
       "      <td>PLANEJAMENTO E CONTROLE DA PRODUçãO(54H)</td>\n",
       "      <td>10</td>\n",
       "      <td>SIM</td>\n",
       "      <td>54</td>\n",
       "    </tr>\n",
       "    <tr>\n",
       "      <th>92</th>\n",
       "      <td>DPAA-4.517</td>\n",
       "      <td>REFRIGERAçãO E AR CONDICIONADO(54H)</td>\n",
       "      <td>10</td>\n",
       "      <td>SIM</td>\n",
       "      <td>54</td>\n",
       "    </tr>\n",
       "    <tr>\n",
       "      <th>93</th>\n",
       "      <td>DPAA-4.528</td>\n",
       "      <td>MéTODOS DOS ELEMENTOS FINITOS(54H)</td>\n",
       "      <td>10</td>\n",
       "      <td>SIM</td>\n",
       "      <td>54</td>\n",
       "    </tr>\n",
       "    <tr>\n",
       "      <th>94</th>\n",
       "      <td>DPAA-4.409</td>\n",
       "      <td>INTELIGêNCIA EM NEGóCIOS(54H)</td>\n",
       "      <td>10</td>\n",
       "      <td>SIM</td>\n",
       "      <td>54</td>\n",
       "    </tr>\n",
       "    <tr>\n",
       "      <th>95</th>\n",
       "      <td>DPAA-4.410</td>\n",
       "      <td>GOVERNANçA EM TECNOLOGIA DA INFORMAçãO(54H)</td>\n",
       "      <td>10</td>\n",
       "      <td>SIM</td>\n",
       "      <td>54</td>\n",
       "    </tr>\n",
       "    <tr>\n",
       "      <th>96</th>\n",
       "      <td>DPAA-4.453</td>\n",
       "      <td>TóPICOS ESPECIAIS EM BANCO DE DADOS(54H)</td>\n",
       "      <td>10</td>\n",
       "      <td>SIM</td>\n",
       "      <td>54</td>\n",
       "    </tr>\n",
       "    <tr>\n",
       "      <th>97</th>\n",
       "      <td>DPAA-4.455</td>\n",
       "      <td>TóPICOS ESPECIAIS EM TECNOLOGIAS WEB(54H)</td>\n",
       "      <td>10</td>\n",
       "      <td>SIM</td>\n",
       "      <td>54</td>\n",
       "    </tr>\n",
       "    <tr>\n",
       "      <th>98</th>\n",
       "      <td>DPAA-4.456</td>\n",
       "      <td>TóPICOS ESPECIAIS EM PROGRAMAçãO PARA DISPOSIT...</td>\n",
       "      <td>10</td>\n",
       "      <td>SIM</td>\n",
       "      <td>54</td>\n",
       "    </tr>\n",
       "  </tbody>\n",
       "</table>\n",
       "</div>"
      ],
      "text/plain": [
       "         CODIGO                                    COMP_CURRICULAR  PERIODO  \\\n",
       "7      10376.0S                                ÁLGEBRA LINEAR(54H)        2   \n",
       "8    DPAA-2.116                                 QUíMICA GERAL(54H)        2   \n",
       "9      10329.0S             CáLCULO DIFERENCIAL E INTEGRAL II(81H)        2   \n",
       "10   DPAA-4.378                            MATERIAS ELéTRICOS(27H)        2   \n",
       "11   DPAA-4.379                FUNçõES DE VARIáVEIS COMPLEXAS(27H)        2   \n",
       "12   DPAA-2.278                      FíSICA: ELETROMAGNETISMO(54H)        2   \n",
       "13   DPAA-2.279               LABORATóRIO DE ELETROMAGNETISMO(27H)        2   \n",
       "14   DPAA-2.191                        METODOLOGIA CIENTíFICA(27H)        2   \n",
       "22   DPAA-4.333                          ELETRôNICA DIGITAL I(54H)        4   \n",
       "23   DPAA-2.100                              CáLCULO NUMéRICO(54H)        4   \n",
       "24  11831.0.54S                          ELETRôNICA ANALóGICA(81H)        4   \n",
       "25     11833.0S                        CIRCUITOS ELéTRICOS II(81H)        4   \n",
       "26     11830.0S                              ELETROMAGNETISMO(54H)        4   \n",
       "27  10781.0.27S                    INTRODUçãO à ADMINISTRAçãO(27H)        4   \n",
       "34   DPAA-4.025                         SISTEMAS OPERACIONAIS(54H)        6   \n",
       "35   DPAA-4.339   DISPOSITIVOS E CIRCUITOS DE RADIOFREQUêNCIA(54H)        6   \n",
       "36   DPAA-4.340                       SISTEMAS DE RADIOENLACE(54H)        6   \n",
       "37  10951.0.54S               PROCESSAMENTO DIGITAL DE SINAIS(54H)        6   \n",
       "38   DPAA-2.339                   ESTATíSTICA E PROBABILIDADE(54H)        6   \n",
       "39   DPAA-4.426                            MICROCONTROLADORES(27H)        6   \n",
       "40   DPAA-4.427                               TRANSFORMADORES(54H)        6   \n",
       "47   DPAA-4.346                      SISTEMAS DE RADIODIFUSãO(27H)        8   \n",
       "48   DPAA-4.029                         SISTEMAS INTELIGENTES(54H)        8   \n",
       "49   DPAA-4.348                 TéCNICAS DE REDUçãO DE RUíDOS(27H)        8   \n",
       "50   DPAA-4.349                INSTALAçõES ELéTRICAS PREDIAIS(54H)        8   \n",
       "51   DPAA-4.429                      REDES DE ALTA VELOCIDADE(54H)        8   \n",
       "52   DPAA-4.430                                   SUBESTAçõES(54H)        8   \n",
       "53   DPAA-4.431                          COMUNICAçõES ÓPTICAS(54H)        8   \n",
       "54   DPAA-2.022                         SEGURANçA DO TRABALHO(27H)        8   \n",
       "76     11836.0S                       SISTEMAS DE CONTROLE II(54H)       10   \n",
       "77   DPAA-4.354                     PROJETOS DE REDES LóGICAS(27H)       10   \n",
       "78   DPAA-4.356                            LEGISLAçãO E ÉTICA(27H)       10   \n",
       "79   DPAA-4.357             TRABALHO DE CONCLUSãO DE CURSO II(54H)       10   \n",
       "80   DPAA-4.350                ANáLISE DE DESEMPENHO DE REDES(27H)       10   \n",
       "81   DPAA-4.433                             REDES INDUSTRIAIS(54H)       10   \n",
       "82   DPAA-4.435                 ANáLISE DE SISTEMAS ELéTRICOS(54H)       10   \n",
       "83   DPAA-4.502                 INTELIGêNCIA EM REDE ELéTRICA(54H)       10   \n",
       "84   DPAA-4.503  TóPICOS EM SISTEMA ELéTRICOS II - ATERRAMENTO ...       10   \n",
       "85   DPAA-1.346                           INGLêS INSTRUMENTAL(54H)       10   \n",
       "86   DPAA-1.091                 LíNGUA ESTRANGEIRA - ESPANHOL(54H)       10   \n",
       "87   DPAA-2.220                                  TOPOGRAFIA I(54H)       10   \n",
       "88   DPAA-2.224                                 TOPOGRAFIA II(54H)       10   \n",
       "89   DPAA-4.158  EMPREENDEDORISMO E PLANEJAMENTO PROFISSIONAL(54H)       10   \n",
       "90   DPAA-4.311                         INTRODUçãO à ROBóTICA(54H)       10   \n",
       "91   DPAA-4.183           PLANEJAMENTO E CONTROLE DA PRODUçãO(54H)       10   \n",
       "92   DPAA-4.517                REFRIGERAçãO E AR CONDICIONADO(54H)       10   \n",
       "93   DPAA-4.528                 MéTODOS DOS ELEMENTOS FINITOS(54H)       10   \n",
       "94   DPAA-4.409                      INTELIGêNCIA EM NEGóCIOS(54H)       10   \n",
       "95   DPAA-4.410        GOVERNANçA EM TECNOLOGIA DA INFORMAçãO(54H)       10   \n",
       "96   DPAA-4.453           TóPICOS ESPECIAIS EM BANCO DE DADOS(54H)       10   \n",
       "97   DPAA-4.455          TóPICOS ESPECIAIS EM TECNOLOGIAS WEB(54H)       10   \n",
       "98   DPAA-4.456  TóPICOS ESPECIAIS EM PROGRAMAçãO PARA DISPOSIT...       10   \n",
       "\n",
       "    OPT  CREDITOS  \n",
       "7   NãO        54  \n",
       "8   NãO        54  \n",
       "9   NãO        81  \n",
       "10  NãO        27  \n",
       "11  NãO        27  \n",
       "12  NãO        54  \n",
       "13  NãO        27  \n",
       "14  NãO        27  \n",
       "22  NãO        54  \n",
       "23  NãO        54  \n",
       "24  NãO        81  \n",
       "25  NãO        81  \n",
       "26  NãO        54  \n",
       "27  NãO        27  \n",
       "34  NãO        54  \n",
       "35  NãO        54  \n",
       "36  NãO        54  \n",
       "37  NãO        54  \n",
       "38  NãO        54  \n",
       "39  NãO        27  \n",
       "40  NãO        54  \n",
       "47  NãO        27  \n",
       "48  NãO        54  \n",
       "49  NãO        27  \n",
       "50  NãO        54  \n",
       "51  NãO        54  \n",
       "52  NãO        54  \n",
       "53  NãO        54  \n",
       "54  NãO        27  \n",
       "76  NãO        54  \n",
       "77  NãO        27  \n",
       "78  NãO        27  \n",
       "79  NãO        54  \n",
       "80  NãO        27  \n",
       "81  NãO        54  \n",
       "82  NãO        54  \n",
       "83  SIM        54  \n",
       "84  SIM        54  \n",
       "85  SIM        54  \n",
       "86  SIM        54  \n",
       "87  SIM        54  \n",
       "88  SIM        54  \n",
       "89  SIM        54  \n",
       "90  SIM        54  \n",
       "91  SIM        54  \n",
       "92  SIM        54  \n",
       "93  SIM        54  \n",
       "94  SIM        54  \n",
       "95  SIM        54  \n",
       "96  SIM        54  \n",
       "97  SIM        54  \n",
       "98  SIM        54  "
      ]
     },
     "execution_count": 18,
     "metadata": {},
     "output_type": "execute_result"
    }
   ],
   "source": [
    "#Filtrando o DataFrame para mostrar apenas valores pares\n",
    "csv[csv['PERIODO'] % 2 == 0]"
   ]
  },
  {
   "cell_type": "code",
   "execution_count": null,
   "metadata": {
    "collapsed": true
   },
   "outputs": [],
   "source": []
  },
  {
   "cell_type": "code",
   "execution_count": null,
   "metadata": {
    "collapsed": true
   },
   "outputs": [],
   "source": []
  },
  {
   "cell_type": "code",
   "execution_count": 3,
   "metadata": {
    "collapsed": false
   },
   "outputs": [],
   "source": [
    "csv = pd.read_csv('campeonato.csv', sep=',')"
   ]
  },
  {
   "cell_type": "code",
   "execution_count": null,
   "metadata": {
    "collapsed": true
   },
   "outputs": [],
   "source": []
  },
  {
   "cell_type": "code",
   "execution_count": 4,
   "metadata": {
    "collapsed": false
   },
   "outputs": [
    {
     "data": {
      "text/html": [
       "<div>\n",
       "<table border=\"1\" class=\"dataframe\">\n",
       "  <thead>\n",
       "    <tr style=\"text-align: right;\">\n",
       "      <th></th>\n",
       "      <th>Ano</th>\n",
       "      <th>Time</th>\n",
       "      <th>Vitórias</th>\n",
       "      <th>Derrotas</th>\n",
       "    </tr>\n",
       "  </thead>\n",
       "  <tbody>\n",
       "    <tr>\n",
       "      <th>0</th>\n",
       "      <td>2010</td>\n",
       "      <td>Flamengo</td>\n",
       "      <td>15</td>\n",
       "      <td>2</td>\n",
       "    </tr>\n",
       "    <tr>\n",
       "      <th>1</th>\n",
       "      <td>2011</td>\n",
       "      <td>Flamengo</td>\n",
       "      <td>16</td>\n",
       "      <td>0</td>\n",
       "    </tr>\n",
       "    <tr>\n",
       "      <th>2</th>\n",
       "      <td>2012</td>\n",
       "      <td>Flamengo</td>\n",
       "      <td>17</td>\n",
       "      <td>1</td>\n",
       "    </tr>\n",
       "    <tr>\n",
       "      <th>3</th>\n",
       "      <td>2010</td>\n",
       "      <td>Grêmio</td>\n",
       "      <td>12</td>\n",
       "      <td>4</td>\n",
       "    </tr>\n",
       "    <tr>\n",
       "      <th>4</th>\n",
       "      <td>2011</td>\n",
       "      <td>Grêmio</td>\n",
       "      <td>11</td>\n",
       "      <td>4</td>\n",
       "    </tr>\n",
       "  </tbody>\n",
       "</table>\n",
       "</div>"
      ],
      "text/plain": [
       "    Ano      Time  Vitórias  Derrotas\n",
       "0  2010  Flamengo        15         2\n",
       "1  2011  Flamengo        16         0\n",
       "2  2012  Flamengo        17         1\n",
       "3  2010    Grêmio        12         4\n",
       "4  2011    Grêmio        11         4"
      ]
     },
     "execution_count": 4,
     "metadata": {},
     "output_type": "execute_result"
    }
   ],
   "source": [
    "csv.head()"
   ]
  },
  {
   "cell_type": "code",
   "execution_count": 6,
   "metadata": {
    "collapsed": false
   },
   "outputs": [
    {
     "data": {
      "text/html": [
       "<div>\n",
       "<table border=\"1\" class=\"dataframe\">\n",
       "  <thead>\n",
       "    <tr style=\"text-align: right;\">\n",
       "      <th></th>\n",
       "      <th>Ano</th>\n",
       "      <th>Time</th>\n",
       "      <th>Vitórias</th>\n",
       "      <th>Derrotas</th>\n",
       "    </tr>\n",
       "  </thead>\n",
       "  <tbody>\n",
       "    <tr>\n",
       "      <th>0</th>\n",
       "      <td>2010</td>\n",
       "      <td>Flamengo</td>\n",
       "      <td>15</td>\n",
       "      <td>2</td>\n",
       "    </tr>\n",
       "    <tr>\n",
       "      <th>1</th>\n",
       "      <td>2011</td>\n",
       "      <td>Flamengo</td>\n",
       "      <td>16</td>\n",
       "      <td>0</td>\n",
       "    </tr>\n",
       "    <tr>\n",
       "      <th>2</th>\n",
       "      <td>2012</td>\n",
       "      <td>Flamengo</td>\n",
       "      <td>17</td>\n",
       "      <td>1</td>\n",
       "    </tr>\n",
       "  </tbody>\n",
       "</table>\n",
       "</div>"
      ],
      "text/plain": [
       "    Ano      Time  Vitórias  Derrotas\n",
       "0  2010  Flamengo        15         2\n",
       "1  2011  Flamengo        16         0\n",
       "2  2012  Flamengo        17         1"
      ]
     },
     "execution_count": 6,
     "metadata": {},
     "output_type": "execute_result"
    }
   ],
   "source": [
    "csv[csv['Time']  == 'Flamengo'].head(10)"
   ]
  },
  {
   "cell_type": "code",
   "execution_count": 10,
   "metadata": {
    "collapsed": false
   },
   "outputs": [
    {
     "data": {
      "text/plain": [
       "Time\n",
       "Cruzeiro     35\n",
       "Flamengo     48\n",
       "Grêmio       36\n",
       "São Paulo    31\n",
       "Name: Vitórias, dtype: int64"
      ]
     },
     "execution_count": 10,
     "metadata": {},
     "output_type": "execute_result"
    }
   ],
   "source": [
    "csv.groupby(['Time']).Vitórias.sum()"
   ]
  },
  {
   "cell_type": "markdown",
   "metadata": {
    "collapsed": true
   },
   "source": [
    "**Referências**\n",
    "\n",
    "https://paulovasconcellos.com.br/28-comandos-%C3%BAteis-de-pandas-que-talvez-voc%C3%AA-n%C3%A3o-conhe%C3%A7a-6ab64beefa93"
   ]
  },
  {
   "cell_type": "code",
   "execution_count": null,
   "metadata": {
    "collapsed": true
   },
   "outputs": [],
   "source": []
  }
 ],
 "metadata": {
  "anaconda-cloud": {},
  "kernelspec": {
   "display_name": "Python [Root]",
   "language": "python",
   "name": "Python [Root]"
  },
  "language_info": {
   "codemirror_mode": {
    "name": "ipython",
    "version": 3
   },
   "file_extension": ".py",
   "mimetype": "text/x-python",
   "name": "python",
   "nbconvert_exporter": "python",
   "pygments_lexer": "ipython3",
   "version": "3.5.2"
  }
 },
 "nbformat": 4,
 "nbformat_minor": 2
}
