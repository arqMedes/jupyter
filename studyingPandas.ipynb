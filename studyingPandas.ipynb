{
 "cells": [
  {
   "cell_type": "code",
   "execution_count": 1,
   "metadata": {},
   "outputs": [],
   "source": [
    "import pandas as pd\n",
    "import numpy as np"
   ]
  },
  {
   "cell_type": "code",
   "execution_count": 9,
   "metadata": {},
   "outputs": [],
   "source": [
    "dates = pd.date_range('1/1/2018', periods=8)"
   ]
  },
  {
   "cell_type": "code",
   "execution_count": 10,
   "metadata": {},
   "outputs": [
    {
     "data": {
      "text/plain": [
       "DatetimeIndex(['2018-01-01', '2018-01-02', '2018-01-03', '2018-01-04',\n",
       "               '2018-01-05', '2018-01-06', '2018-01-07', '2018-01-08'],\n",
       "              dtype='datetime64[ns]', freq='D')"
      ]
     },
     "execution_count": 10,
     "metadata": {},
     "output_type": "execute_result"
    }
   ],
   "source": [
    "dates"
   ]
  },
  {
   "cell_type": "code",
   "execution_count": 11,
   "metadata": {},
   "outputs": [],
   "source": [
    "df = pd.DataFrame(np.random.randn(8, 4), index=dates, columns=['A', 'B', 'C', 'D'])"
   ]
  },
  {
   "cell_type": "code",
   "execution_count": 12,
   "metadata": {},
   "outputs": [
    {
     "data": {
      "text/html": [
       "<div>\n",
       "<style scoped>\n",
       "    .dataframe tbody tr th:only-of-type {\n",
       "        vertical-align: middle;\n",
       "    }\n",
       "\n",
       "    .dataframe tbody tr th {\n",
       "        vertical-align: top;\n",
       "    }\n",
       "\n",
       "    .dataframe thead th {\n",
       "        text-align: right;\n",
       "    }\n",
       "</style>\n",
       "<table border=\"1\" class=\"dataframe\">\n",
       "  <thead>\n",
       "    <tr style=\"text-align: right;\">\n",
       "      <th></th>\n",
       "      <th>A</th>\n",
       "      <th>B</th>\n",
       "      <th>C</th>\n",
       "      <th>D</th>\n",
       "    </tr>\n",
       "  </thead>\n",
       "  <tbody>\n",
       "    <tr>\n",
       "      <th>2018-01-01</th>\n",
       "      <td>-0.807281</td>\n",
       "      <td>-0.227755</td>\n",
       "      <td>0.430245</td>\n",
       "      <td>0.618823</td>\n",
       "    </tr>\n",
       "    <tr>\n",
       "      <th>2018-01-02</th>\n",
       "      <td>0.777623</td>\n",
       "      <td>0.306812</td>\n",
       "      <td>-0.893166</td>\n",
       "      <td>-0.543816</td>\n",
       "    </tr>\n",
       "    <tr>\n",
       "      <th>2018-01-03</th>\n",
       "      <td>-0.996103</td>\n",
       "      <td>0.518574</td>\n",
       "      <td>0.590198</td>\n",
       "      <td>1.419015</td>\n",
       "    </tr>\n",
       "    <tr>\n",
       "      <th>2018-01-04</th>\n",
       "      <td>-0.350860</td>\n",
       "      <td>1.764987</td>\n",
       "      <td>0.513623</td>\n",
       "      <td>-0.800207</td>\n",
       "    </tr>\n",
       "    <tr>\n",
       "      <th>2018-01-05</th>\n",
       "      <td>0.925269</td>\n",
       "      <td>-0.208009</td>\n",
       "      <td>1.208076</td>\n",
       "      <td>1.220448</td>\n",
       "    </tr>\n",
       "    <tr>\n",
       "      <th>2018-01-06</th>\n",
       "      <td>0.743314</td>\n",
       "      <td>0.076934</td>\n",
       "      <td>-0.620541</td>\n",
       "      <td>-0.634178</td>\n",
       "    </tr>\n",
       "    <tr>\n",
       "      <th>2018-01-07</th>\n",
       "      <td>-1.823492</td>\n",
       "      <td>0.218868</td>\n",
       "      <td>0.150221</td>\n",
       "      <td>-1.093117</td>\n",
       "    </tr>\n",
       "    <tr>\n",
       "      <th>2018-01-08</th>\n",
       "      <td>0.807512</td>\n",
       "      <td>0.479420</td>\n",
       "      <td>0.266078</td>\n",
       "      <td>0.202172</td>\n",
       "    </tr>\n",
       "  </tbody>\n",
       "</table>\n",
       "</div>"
      ],
      "text/plain": [
       "                   A         B         C         D\n",
       "2018-01-01 -0.807281 -0.227755  0.430245  0.618823\n",
       "2018-01-02  0.777623  0.306812 -0.893166 -0.543816\n",
       "2018-01-03 -0.996103  0.518574  0.590198  1.419015\n",
       "2018-01-04 -0.350860  1.764987  0.513623 -0.800207\n",
       "2018-01-05  0.925269 -0.208009  1.208076  1.220448\n",
       "2018-01-06  0.743314  0.076934 -0.620541 -0.634178\n",
       "2018-01-07 -1.823492  0.218868  0.150221 -1.093117\n",
       "2018-01-08  0.807512  0.479420  0.266078  0.202172"
      ]
     },
     "execution_count": 12,
     "metadata": {},
     "output_type": "execute_result"
    }
   ],
   "source": [
    "df"
   ]
  },
  {
   "cell_type": "markdown",
   "metadata": {},
   "source": [
    "# Manipula Planilha"
   ]
  },
  {
   "cell_type": "code",
   "execution_count": 2,
   "metadata": {},
   "outputs": [],
   "source": [
    "df = pd.read_csv(\"ManipulaPlan.csv\")"
   ]
  },
  {
   "cell_type": "code",
   "execution_count": 3,
   "metadata": {},
   "outputs": [
    {
     "name": "stdout",
     "output_type": "stream",
     "text": [
      "   A  B\n",
      "0  1  0\n",
      "1  3  1\n",
      "2  4  2\n",
      "3  5  3\n"
     ]
    }
   ],
   "source": [
    "print(df.head())"
   ]
  },
  {
   "cell_type": "code",
   "execution_count": 5,
   "metadata": {},
   "outputs": [],
   "source": [
    "df['C'] = df['A'] + df['B']"
   ]
  },
  {
   "cell_type": "markdown",
   "metadata": {},
   "source": [
    "## Instalação"
   ]
  },
  {
   "cell_type": "code",
   "execution_count": 4,
   "metadata": {},
   "outputs": [],
   "source": [
    "df = pd.read_excel(\"ie_dimension.xls\")"
   ]
  },
  {
   "cell_type": "code",
   "execution_count": 5,
   "metadata": {},
   "outputs": [
    {
     "data": {
      "text/html": [
       "<div>\n",
       "<style scoped>\n",
       "    .dataframe tbody tr th:only-of-type {\n",
       "        vertical-align: middle;\n",
       "    }\n",
       "\n",
       "    .dataframe tbody tr th {\n",
       "        vertical-align: top;\n",
       "    }\n",
       "\n",
       "    .dataframe thead th {\n",
       "        text-align: right;\n",
       "    }\n",
       "</style>\n",
       "<table border=\"1\" class=\"dataframe\">\n",
       "  <thead>\n",
       "    <tr style=\"text-align: right;\">\n",
       "      <th></th>\n",
       "      <th>Comodo</th>\n",
       "      <th>Área</th>\n",
       "      <th>Perímetro</th>\n",
       "    </tr>\n",
       "  </thead>\n",
       "  <tbody>\n",
       "    <tr>\n",
       "      <th>0</th>\n",
       "      <td>Sala</td>\n",
       "      <td>9.91</td>\n",
       "      <td>12.6</td>\n",
       "    </tr>\n",
       "    <tr>\n",
       "      <th>1</th>\n",
       "      <td>Copa</td>\n",
       "      <td>9.46</td>\n",
       "      <td>12.3</td>\n",
       "    </tr>\n",
       "    <tr>\n",
       "      <th>2</th>\n",
       "      <td>Cozinha</td>\n",
       "      <td>11.44</td>\n",
       "      <td>13.6</td>\n",
       "    </tr>\n",
       "    <tr>\n",
       "      <th>3</th>\n",
       "      <td>Dormitório A</td>\n",
       "      <td>11.05</td>\n",
       "      <td>13.3</td>\n",
       "    </tr>\n",
       "    <tr>\n",
       "      <th>4</th>\n",
       "      <td>Banheiro</td>\n",
       "      <td>4.14</td>\n",
       "      <td>8.2</td>\n",
       "    </tr>\n",
       "    <tr>\n",
       "      <th>5</th>\n",
       "      <td>Hall</td>\n",
       "      <td>1.80</td>\n",
       "      <td>5.6</td>\n",
       "    </tr>\n",
       "    <tr>\n",
       "      <th>6</th>\n",
       "      <td>Dormitório B</td>\n",
       "      <td>10.71</td>\n",
       "      <td>13.1</td>\n",
       "    </tr>\n",
       "    <tr>\n",
       "      <th>7</th>\n",
       "      <td>Área de serviço</td>\n",
       "      <td>5.95</td>\n",
       "      <td>10.3</td>\n",
       "    </tr>\n",
       "    <tr>\n",
       "      <th>8</th>\n",
       "      <td>Área Externa</td>\n",
       "      <td>0.00</td>\n",
       "      <td>0.0</td>\n",
       "    </tr>\n",
       "  </tbody>\n",
       "</table>\n",
       "</div>"
      ],
      "text/plain": [
       "            Comodo   Área  Perímetro\n",
       "0             Sala   9.91       12.6\n",
       "1             Copa   9.46       12.3\n",
       "2          Cozinha  11.44       13.6\n",
       "3     Dormitório A  11.05       13.3\n",
       "4         Banheiro   4.14        8.2\n",
       "5             Hall   1.80        5.6\n",
       "6     Dormitório B  10.71       13.1\n",
       "7  Área de serviço   5.95       10.3\n",
       "8     Área Externa   0.00        0.0"
      ]
     },
     "execution_count": 5,
     "metadata": {},
     "output_type": "execute_result"
    }
   ],
   "source": [
    "df"
   ]
  },
  {
   "cell_type": "code",
   "execution_count": 19,
   "metadata": {},
   "outputs": [],
   "source": [
    "df['Pilum'] = (df[\"Área\"]-6).mul(1./4)"
   ]
  },
  {
   "cell_type": "code",
   "execution_count": 20,
   "metadata": {},
   "outputs": [
    {
     "data": {
      "text/html": [
       "<div>\n",
       "<style scoped>\n",
       "    .dataframe tbody tr th:only-of-type {\n",
       "        vertical-align: middle;\n",
       "    }\n",
       "\n",
       "    .dataframe tbody tr th {\n",
       "        vertical-align: top;\n",
       "    }\n",
       "\n",
       "    .dataframe thead th {\n",
       "        text-align: right;\n",
       "    }\n",
       "</style>\n",
       "<table border=\"1\" class=\"dataframe\">\n",
       "  <thead>\n",
       "    <tr style=\"text-align: right;\">\n",
       "      <th></th>\n",
       "      <th>Comodo</th>\n",
       "      <th>Área</th>\n",
       "      <th>Perímetro</th>\n",
       "      <th>Pilum</th>\n",
       "    </tr>\n",
       "  </thead>\n",
       "  <tbody>\n",
       "    <tr>\n",
       "      <th>0</th>\n",
       "      <td>Sala</td>\n",
       "      <td>9.91</td>\n",
       "      <td>12.6</td>\n",
       "      <td>0.9775</td>\n",
       "    </tr>\n",
       "    <tr>\n",
       "      <th>1</th>\n",
       "      <td>Copa</td>\n",
       "      <td>9.46</td>\n",
       "      <td>12.3</td>\n",
       "      <td>0.8650</td>\n",
       "    </tr>\n",
       "    <tr>\n",
       "      <th>2</th>\n",
       "      <td>Cozinha</td>\n",
       "      <td>11.44</td>\n",
       "      <td>13.6</td>\n",
       "      <td>1.3600</td>\n",
       "    </tr>\n",
       "    <tr>\n",
       "      <th>3</th>\n",
       "      <td>Dormitório A</td>\n",
       "      <td>11.05</td>\n",
       "      <td>13.3</td>\n",
       "      <td>1.2625</td>\n",
       "    </tr>\n",
       "    <tr>\n",
       "      <th>4</th>\n",
       "      <td>Banheiro</td>\n",
       "      <td>4.14</td>\n",
       "      <td>8.2</td>\n",
       "      <td>-0.4650</td>\n",
       "    </tr>\n",
       "    <tr>\n",
       "      <th>5</th>\n",
       "      <td>Hall</td>\n",
       "      <td>1.80</td>\n",
       "      <td>5.6</td>\n",
       "      <td>-1.0500</td>\n",
       "    </tr>\n",
       "    <tr>\n",
       "      <th>6</th>\n",
       "      <td>Dormitório B</td>\n",
       "      <td>10.71</td>\n",
       "      <td>13.1</td>\n",
       "      <td>1.1775</td>\n",
       "    </tr>\n",
       "    <tr>\n",
       "      <th>7</th>\n",
       "      <td>Área de serviço</td>\n",
       "      <td>5.95</td>\n",
       "      <td>10.3</td>\n",
       "      <td>-0.0125</td>\n",
       "    </tr>\n",
       "    <tr>\n",
       "      <th>8</th>\n",
       "      <td>Área Externa</td>\n",
       "      <td>0.00</td>\n",
       "      <td>0.0</td>\n",
       "      <td>-1.5000</td>\n",
       "    </tr>\n",
       "  </tbody>\n",
       "</table>\n",
       "</div>"
      ],
      "text/plain": [
       "            Comodo   Área  Perímetro   Pilum\n",
       "0             Sala   9.91       12.6  0.9775\n",
       "1             Copa   9.46       12.3  0.8650\n",
       "2          Cozinha  11.44       13.6  1.3600\n",
       "3     Dormitório A  11.05       13.3  1.2625\n",
       "4         Banheiro   4.14        8.2 -0.4650\n",
       "5             Hall   1.80        5.6 -1.0500\n",
       "6     Dormitório B  10.71       13.1  1.1775\n",
       "7  Área de serviço   5.95       10.3 -0.0125\n",
       "8     Área Externa   0.00        0.0 -1.5000"
      ]
     },
     "execution_count": 20,
     "metadata": {},
     "output_type": "execute_result"
    }
   ],
   "source": [
    "df"
   ]
  },
  {
   "cell_type": "code",
   "execution_count": 21,
   "metadata": {},
   "outputs": [],
   "source": [
    "df['Pilum'] = np.where(df.Pilum  < 1, 100, 100 + (df.Pilum.values.astype(np.int64))*60)\n",
    "#SE((D3-6)/4<1;0;INT((D3-6)/4)   .values.astype(np.int64)"
   ]
  },
  {
   "cell_type": "code",
   "execution_count": 27,
   "metadata": {},
   "outputs": [
    {
     "data": {
      "text/html": [
       "<div>\n",
       "<style scoped>\n",
       "    .dataframe tbody tr th:only-of-type {\n",
       "        vertical-align: middle;\n",
       "    }\n",
       "\n",
       "    .dataframe tbody tr th {\n",
       "        vertical-align: top;\n",
       "    }\n",
       "\n",
       "    .dataframe thead th {\n",
       "        text-align: right;\n",
       "    }\n",
       "</style>\n",
       "<table border=\"1\" class=\"dataframe\">\n",
       "  <thead>\n",
       "    <tr style=\"text-align: right;\">\n",
       "      <th></th>\n",
       "      <th>Comodo</th>\n",
       "      <th>Área</th>\n",
       "      <th>Perímetro</th>\n",
       "      <th>Pilum</th>\n",
       "    </tr>\n",
       "  </thead>\n",
       "  <tbody>\n",
       "    <tr>\n",
       "      <th>0</th>\n",
       "      <td>Sala</td>\n",
       "      <td>9.91</td>\n",
       "      <td>12.6</td>\n",
       "      <td>100</td>\n",
       "    </tr>\n",
       "    <tr>\n",
       "      <th>1</th>\n",
       "      <td>Copa</td>\n",
       "      <td>9.46</td>\n",
       "      <td>12.3</td>\n",
       "      <td>100</td>\n",
       "    </tr>\n",
       "    <tr>\n",
       "      <th>2</th>\n",
       "      <td>Cozinha</td>\n",
       "      <td>11.44</td>\n",
       "      <td>13.6</td>\n",
       "      <td>160</td>\n",
       "    </tr>\n",
       "    <tr>\n",
       "      <th>3</th>\n",
       "      <td>Dormitório A</td>\n",
       "      <td>11.05</td>\n",
       "      <td>13.3</td>\n",
       "      <td>160</td>\n",
       "    </tr>\n",
       "    <tr>\n",
       "      <th>4</th>\n",
       "      <td>Banheiro</td>\n",
       "      <td>4.14</td>\n",
       "      <td>8.2</td>\n",
       "      <td>100</td>\n",
       "    </tr>\n",
       "    <tr>\n",
       "      <th>5</th>\n",
       "      <td>Hall</td>\n",
       "      <td>1.80</td>\n",
       "      <td>5.6</td>\n",
       "      <td>100</td>\n",
       "    </tr>\n",
       "    <tr>\n",
       "      <th>6</th>\n",
       "      <td>Dormitório B</td>\n",
       "      <td>10.71</td>\n",
       "      <td>13.1</td>\n",
       "      <td>160</td>\n",
       "    </tr>\n",
       "    <tr>\n",
       "      <th>7</th>\n",
       "      <td>Área de serviço</td>\n",
       "      <td>5.95</td>\n",
       "      <td>10.3</td>\n",
       "      <td>100</td>\n",
       "    </tr>\n",
       "    <tr>\n",
       "      <th>8</th>\n",
       "      <td>Área Externa</td>\n",
       "      <td>0.00</td>\n",
       "      <td>0.0</td>\n",
       "      <td>100</td>\n",
       "    </tr>\n",
       "  </tbody>\n",
       "</table>\n",
       "</div>"
      ],
      "text/plain": [
       "            Comodo   Área  Perímetro  Pilum\n",
       "0             Sala   9.91       12.6    100\n",
       "1             Copa   9.46       12.3    100\n",
       "2          Cozinha  11.44       13.6    160\n",
       "3     Dormitório A  11.05       13.3    160\n",
       "4         Banheiro   4.14        8.2    100\n",
       "5             Hall   1.80        5.6    100\n",
       "6     Dormitório B  10.71       13.1    160\n",
       "7  Área de serviço   5.95       10.3    100\n",
       "8     Área Externa   0.00        0.0    100"
      ]
     },
     "execution_count": 27,
     "metadata": {},
     "output_type": "execute_result"
    }
   ],
   "source": [
    "df"
   ]
  },
  {
   "cell_type": "code",
   "execution_count": 40,
   "metadata": {},
   "outputs": [],
   "source": [
    "df['TUG'] = np.where((df.Comodo.str.contains(\"Dormi\")) | (df.Comodo.str.contains(\"Sala\")) , (df.Perímetro.values/5),0)"
   ]
  },
  {
   "cell_type": "code",
   "execution_count": 41,
   "metadata": {},
   "outputs": [
    {
     "data": {
      "text/html": [
       "<div>\n",
       "<style scoped>\n",
       "    .dataframe tbody tr th:only-of-type {\n",
       "        vertical-align: middle;\n",
       "    }\n",
       "\n",
       "    .dataframe tbody tr th {\n",
       "        vertical-align: top;\n",
       "    }\n",
       "\n",
       "    .dataframe thead th {\n",
       "        text-align: right;\n",
       "    }\n",
       "</style>\n",
       "<table border=\"1\" class=\"dataframe\">\n",
       "  <thead>\n",
       "    <tr style=\"text-align: right;\">\n",
       "      <th></th>\n",
       "      <th>Comodo</th>\n",
       "      <th>Área</th>\n",
       "      <th>Perímetro</th>\n",
       "      <th>Pilum</th>\n",
       "      <th>TUG</th>\n",
       "    </tr>\n",
       "  </thead>\n",
       "  <tbody>\n",
       "    <tr>\n",
       "      <th>0</th>\n",
       "      <td>Sala</td>\n",
       "      <td>9.91</td>\n",
       "      <td>12.6</td>\n",
       "      <td>100</td>\n",
       "      <td>2.52</td>\n",
       "    </tr>\n",
       "    <tr>\n",
       "      <th>3</th>\n",
       "      <td>Dormitório A</td>\n",
       "      <td>11.05</td>\n",
       "      <td>13.3</td>\n",
       "      <td>160</td>\n",
       "      <td>2.66</td>\n",
       "    </tr>\n",
       "    <tr>\n",
       "      <th>6</th>\n",
       "      <td>Dormitório B</td>\n",
       "      <td>10.71</td>\n",
       "      <td>13.1</td>\n",
       "      <td>160</td>\n",
       "      <td>2.62</td>\n",
       "    </tr>\n",
       "  </tbody>\n",
       "</table>\n",
       "</div>"
      ],
      "text/plain": [
       "         Comodo   Área  Perímetro  Pilum   TUG\n",
       "0          Sala   9.91       12.6    100  2.52\n",
       "3  Dormitório A  11.05       13.3    160  2.66\n",
       "6  Dormitório B  10.71       13.1    160  2.62"
      ]
     },
     "execution_count": 41,
     "metadata": {},
     "output_type": "execute_result"
    }
   ],
   "source": [
    "df[(df.Comodo.str.contains(\"Dormi\")) | (df.Comodo.str.contains(\"Sala\"))]\n"
   ]
  },
  {
   "cell_type": "code",
   "execution_count": null,
   "metadata": {},
   "outputs": [],
   "source": [
    "# Referência:\n",
    "\n",
    "https://pandas.pydata.org/pandas-docs/stable/indexing.html\n",
    "    \n",
    "https://medium.com/dunder-data/selecting-subsets-of-data-in-pandas-6fcd0170be9c"
   ]
  },
  {
   "cell_type": "code",
   "execution_count": null,
   "metadata": {},
   "outputs": [],
   "source": [
    "# Novos estudos\n",
    "https://juliocprocha.wordpress.com/category/programacao/\n",
    "    \n",
    "    https://www.tensorflow.org/"
   ]
  }
 ],
 "metadata": {
  "kernelspec": {
   "display_name": "Python 3",
   "language": "python",
   "name": "python3"
  },
  "language_info": {
   "codemirror_mode": {
    "name": "ipython",
    "version": 3
   },
   "file_extension": ".py",
   "mimetype": "text/x-python",
   "name": "python",
   "nbconvert_exporter": "python",
   "pygments_lexer": "ipython3",
   "version": "3.6.5"
  }
 },
 "nbformat": 4,
 "nbformat_minor": 2
}
