{
 "cells": [
  {
   "cell_type": "markdown",
   "metadata": {},
   "source": [
    "# Aplicação de Banco de Dados"
   ]
  },
  {
   "cell_type": "code",
   "execution_count": null,
   "metadata": {
    "collapsed": true
   },
   "outputs": [],
   "source": [
    "import sqlite3\n",
    "\n",
    "def existeTable(cursor, table_name):\n",
    "    # lendo os dados\n",
    "    cursor.execute(\" SELECT name FROM sqlite_master WHERE type='table' AND name= '\" + table_name + \"';\")\n",
    "    linha = cursor.fetchall()\n",
    "    return len(linha)== 1\n",
    "\n",
    "def criarTabela(cursor, nomeTable = 'diario'):\n",
    "    criar = \"CREATE TABLE '\" + nomeTable + \"' ( \\\n",
    "                        id INTEGER NOT NULL PRIMARY KEY AUTOINCREMENT, \\\n",
    "                        data varchar(12), \\\n",
    "                        carro varchar(12), \\\n",
    "                        comb varchar(12), \\\n",
    "                        KM REAL, \\\n",
    "                        deltaKM REAL, \\\n",
    "                        litros REAL, \\\n",
    "                        rend REAL, \\\n",
    "                    );\"\n",
    "    print ('Tabela Criada')\n",
    "    cursor.execute(criar)\n",
    "\n",
    "conn = sqlite3.connect('abastecimento.db')\n",
    "cursor = conn.cursor()\n",
    "p = -1\n",
    "# criar a tabela se nao existe\n",
    "if not existeTable(cursor, 'abastecimento'):\n",
    "    criarTabela(cursor)\n",
    "    setting = LeJ()\n"
   ]
  },
  {
   "cell_type": "markdown",
   "metadata": {},
   "source": [
    "#reg1 = int(txtImg1.get())\n",
    "#reg2 = int(txtImg2.get())\n",
    "    for reg in range(reg1, reg2):\n",
    "        print (50*'=')\n",
    "        print (' Analise de Imagens no Intervalo [ %d, %d [ : ' % (reg1, reg2))\n",
    "        s = salvarUmRegImagem(reg, cursor, setting)\n",
    "        #result= tkmsg.showwarning(title='Meu dialogo showwarning', message='Atenção com altas velocidades na estrada!')\n",
    "        print (50*'=')\n",
    "        conn.commit()\n",
    "    conn.close()\n",
    "    tf = mostraTempo('FIM DE PROCESSAMENTO ', inicio)\n",
    "    return s"
   ]
  },
  {
   "cell_type": "code",
   "execution_count": null,
   "metadata": {
    "collapsed": true
   },
   "outputs": [],
   "source": []
  }
 ],
 "metadata": {
  "kernelspec": {
   "display_name": "Python [Root]",
   "language": "python",
   "name": "Python [Root]"
  },
  "language_info": {
   "codemirror_mode": {
    "name": "ipython",
    "version": 3
   },
   "file_extension": ".py",
   "mimetype": "text/x-python",
   "name": "python",
   "nbconvert_exporter": "python",
   "pygments_lexer": "ipython3",
   "version": "3.5.2"
  }
 },
 "nbformat": 4,
 "nbformat_minor": 0
}
